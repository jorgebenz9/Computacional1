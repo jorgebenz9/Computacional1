{
 "cells": [
  {
   "cell_type": "code",
   "execution_count": 1,
   "metadata": {
    "collapsed": true
   },
   "outputs": [],
   "source": [
    "import pandas as pd\n",
    "import numpy as np\n",
    "import matplotlib.pyplot as plt"
   ]
  },
  {
   "cell_type": "code",
   "execution_count": 2,
   "metadata": {
    "collapsed": true
   },
   "outputs": [],
   "source": [
    "#Descargar el archivo\n",
    "data = pd.read_csv(\"Datos_Hermosillo_editado.txt\",sep=\"\\s+\",skipfooter=1,skiprows=1,engine='python',names=['Fecha', 'Precip', 'Evap', 'Tmax', 'Tmin'])\n",
    "data = data.replace('Nulo','NA')\n",
    "#Cambiamos el tipo de variable de las columnas a flotante\n",
    "data[['Precip','Evap','Tmax','Tmin']] = data[['Precip','Evap','Tmax','Tmin']] \\\n",
    ".apply(pd.to_numeric, errors='coerce')\n",
    "data['NFecha'] =  pd.to_datetime(data['Fecha'], format='%d/%m/%Y')\n",
    "data = data.drop('Fecha', 1)\n",
    "# Crear columnas con Año y Mes extraídos de la fecha \n",
    "data['Año'] = data['NFecha'].dt.year\n",
    "data['Mes'] = data['NFecha'].dt.month\n",
    "# Número de años distintos data['Año'].unique(),\n",
    "NumA = len(data['Año'].unique())\n",
    "\n"
   ]
  },
  {
   "cell_type": "code",
   "execution_count": 3,
   "metadata": {},
   "outputs": [
    {
     "data": {
      "text/plain": [
       "(   Precip  Evap  Tmax  Tmin     NFecha   Año  Mes\n",
       " 0     0.0   7.3  35.0  22.0 1974-07-01  1974    7\n",
       " 1     0.0  10.5  34.0  22.5 1974-07-02  1974    7\n",
       " 2     0.0  13.6  31.5  21.0 1974-07-03  1974    7\n",
       " 3     0.0  10.7  41.0  28.0 1974-07-04  1974    7\n",
       " 4     0.0  10.9  35.0  28.0 1974-07-05  1974    7,\n",
       "       Precip  Evap  Tmax  Tmin     NFecha   Año  Mes\n",
       " 6630     0.0   9.4  34.0  24.0 2011-07-27  2011    7\n",
       " 6631     0.0   7.0  33.5  24.5 2011-07-28  2011    7\n",
       " 6632     0.0   7.6  33.0  25.5 2011-07-29  2011    7\n",
       " 6633     0.0   8.1  36.0  25.5 2011-07-30  2011    7\n",
       " 6634     0.0   NaN   NaN  27.5 2011-07-31  2011    7)"
      ]
     },
     "execution_count": 3,
     "metadata": {},
     "output_type": "execute_result"
    }
   ],
   "source": [
    "data.head(),data.tail()"
   ]
  },
  {
   "cell_type": "markdown",
   "metadata": {},
   "source": [
    "Realizaremos algunas gráficas utilizando los datos de la práctica anterior (3)"
   ]
  },
  {
   "cell_type": "code",
   "execution_count": 7,
   "metadata": {},
   "outputs": [
    {
     "name": "stdout",
     "output_type": "stream",
     "text": [
      "Mes 1 : 7.51 mm , Acumulada: 7.51 mm\n",
      "Mes 2 : 5.17 mm , Acumulada: 12.68 mm\n",
      "Mes 3 : 1.75 mm , Acumulada: 14.42 mm\n",
      "Mes 4 : 0.67 mm , Acumulada: 15.09 mm\n",
      "Mes 5 : 0.29 mm , Acumulada: 15.38 mm\n",
      "Mes 6 : 1.21 mm , Acumulada: 16.59 mm\n",
      "Mes 7 : 13.35 mm , Acumulada: 29.94 mm\n",
      "Mes 8 : 27.81 mm , Acumulada: 57.75 mm\n",
      "Mes 9 : 16.18 mm , Acumulada: 73.93 mm\n",
      "Mes 10 : 7.98 mm , Acumulada: 81.91 mm\n",
      "Mes 11 : 3.58 mm , Acumulada: 85.48 mm\n",
      "Mes 12 : 13.29 mm , Acumulada: 98.77 mm\n"
     ]
    }
   ],
   "source": [
    "#utilizando un loop\n",
    "total=0.0\n",
    "for i in range(12):\n",
    "    PrecipMensual = data['Precip'][data['Mes']==[i+1]].sum()/NumA\n",
    "    \n",
    "    total=total+PrecipMensual\n",
    "    print(\"Mes\", i+1,\":\", np.round(PrecipMensual, decimals=2), \"mm\", \", Acumulada:\", \n",
    "          np.round(total, decimals=2), \"mm\")"
   ]
  },
  {
   "cell_type": "code",
   "execution_count": 8,
   "metadata": {
    "collapsed": true
   },
   "outputs": [],
   "source": [
    "datos=[7.51,12.68,14.42,15.09,15.38,16.59,29.94,57.75,73.93,81.91,85.48,98.77]"
   ]
  },
  {
   "cell_type": "code",
   "execution_count": 9,
   "metadata": {},
   "outputs": [
    {
     "name": "stdout",
     "output_type": "stream",
     "text": [
      "[7.51, 12.68, 14.42, 15.09, 15.38, 16.59, 29.94, 57.75, 73.93, 81.91, 85.48, 98.77]\n"
     ]
    }
   ],
   "source": [
    "print(datos)"
   ]
  },
  {
   "cell_type": "code",
   "execution_count": 10,
   "metadata": {
    "collapsed": true
   },
   "outputs": [],
   "source": [
    "meses = ['Mes 1','Mes 2','Mes 3','Mes 4','Mes 5','Mes 6','Mes 7','Mes 8','Mes 9','Mes 10','Mes 11','Mes 12']"
   ]
  },
  {
   "cell_type": "code",
   "execution_count": 11,
   "metadata": {},
   "outputs": [
    {
     "name": "stdout",
     "output_type": "stream",
     "text": [
      "['Mes 1', 'Mes 2', 'Mes 3', 'Mes 4', 'Mes 5', 'Mes 6', 'Mes 7', 'Mes 8', 'Mes 9', 'Mes 10', 'Mes 11', 'Mes 12']\n"
     ]
    }
   ],
   "source": [
    "print(meses)"
   ]
  },
  {
   "cell_type": "code",
   "execution_count": 12,
   "metadata": {
    "collapsed": true
   },
   "outputs": [],
   "source": [
    "xx = np.arange(len(datos))"
   ]
  },
  {
   "cell_type": "markdown",
   "metadata": {},
   "source": [
    "Elabora una gráfica de barras (barplot) de precipitación mensual acumulada promedio de la colección de datos de la estación que se esté analizando"
   ]
  },
  {
   "cell_type": "code",
   "execution_count": 13,
   "metadata": {},
   "outputs": [
    {
     "data": {
      "image/png": "[encoded data removed]",
      "text/plain": [
       "<matplotlib.figure.Figure at 0x216d555e710>"
      ]
     },
     "metadata": {},
     "output_type": "display_data"
    }
   ],
   "source": [
    "xx = np.arange(len(datos))\n",
    "meses = ['Mes 1','Mes 2','Mes 3','Mes 4','Mes 5','Mes 6','Mes 7','Mes 8','Mes 9','Mes 10','Mes 11','Mes 12']\n",
    "datos=[7.51,12.68,14.42,15.09,15.38,16.59,29.94,57.75,73.93,81.91,85.48,98.77]\n",
    "fig = plt.figure()\n",
    "ax = fig.add_subplot(111)\n",
    "ax.bar(xx,datos,width=0.5,color=(0,1,0),align='center')\n",
    "ax.set_xticks(xx)\n",
    "ax.set_xticklabels(meses)\n",
    "ax.set_title(\"Precipitación mensual acumulada\")\n",
    "ax.set_ylabel('Precipitación(mm)')\n",
    "plt.show()"
   ]
  },
  {
   "cell_type": "markdown",
   "metadata": {},
   "source": [
    "Elabora una gráfica de barras de precipitación acumulada para cada año de la mima colección."
   ]
  },
  {
   "cell_type": "code",
   "execution_count": 14,
   "metadata": {},
   "outputs": [
    {
     "name": "stdout",
     "output_type": "stream",
     "text": [
      "[90.0, 56.0, 107.0, 105.0, 54.0, 43.0, 70.0, 91.0, 154.0, 214.0, 264.0, 53.0, 9.0, 0, 92.0, 34.0, 159.0, 165.0, 279.0, 148.0, 0.0, 0, 0, 0, 0, 0, 0, 0, 0, 0, 0, 0, 0, 144.0, 30.0, 0, 0.0, 11.0]\n",
      "[11.0, 23.0, 34.0, 46.0, 57.0, 68.0, 80.0, 91.0, 103.0, 114.0, 125.0, 137.0, 148.0, 160.0, 171.0, 182.0, 194.0, 205.0, 217.0, 228.0, 239.0, 251.0, 262.0, 274.0, 285.0, 296.0, 308.0, 319.0, 331.0, 342.0, 353.0, 365.0, 376.0, 388.0, 399.0, 410.0, 422.0, 433.0]\n",
      "[1974, 1975, 1976, 1977, 1978, 1979, 1980, 1981, 1982, 1983, 1984, 1985, 1986, 1987, 1988, 1989, 1990, 1991, 1992, 1993, 1994, 1995, 1996, 1997, 1998, 1999, 2000, 2001, 2002, 2003, 2004, 2005, 2006, 2007, 2008, 2009, 2010, 2011]\n"
     ]
    },
    {
     "data": {
      "image/png": "[encoded data removed]",
      "text/plain": [
       "<matplotlib.figure.Figure at 0x216d5768630>"
      ]
     },
     "metadata": {},
     "output_type": "display_data"
    }
   ],
   "source": [
    "# Años húmedos\n",
    "\n",
    "dat=[]\n",
    "for i in range(1973,2011):\n",
    "    \n",
    "    PrecipAnual = data['Precip'][data['Año']==[i+1]].sum()\n",
    "    dat.append(np.round(PrecipAnual,decimals=0))\n",
    "\n",
    "print(dat)\n",
    "\n",
    "# Años húmedos acumulados\n",
    "\n",
    "dats=[]\n",
    "total=0\n",
    "for k in range(1973,2011):\n",
    "    #total=0\n",
    "    PrecipAnual = data['Precip'][data['Año']==[i+1]].sum()\n",
    "    total = total +  PrecipAnual\n",
    "    dats.append(np.round(total, decimals=0))\n",
    "#    print(total)\n",
    "\n",
    "print(dats)\n",
    "    \n",
    "\n",
    "anos =[]\n",
    "for i in range(1973,2011):\n",
    "    anos.append(i+1)\n",
    "\n",
    "print(anos)\n",
    "\n",
    "\n",
    "\n",
    "anos=['1974','1975','1976','1977','1978','1979','1980','1981',\\\n",
    "    '1982','1983','1984','1985','1986','1987','1988','1989','1990','1991',\\\n",
    "   '1992','1993','1994','1995', '1996', '1997', '1998', '1999', '2000',\\\n",
    "   '2001', '2002','2003', '2004', '2005', '2006','2007','2008','2009',\\\n",
    "   '2010','2011']\n",
    "\n",
    "\n",
    "\n",
    "\n",
    "yy = np.arange(1,len(dats)+1)\n",
    "\n",
    "\n",
    "fig = plt.figure()\n",
    "ax = fig.add_subplot(111)\n",
    "ax.bar(yy,dats,width=0.5,color=(0,1,0),align='center')\n",
    "ax.set_xticks(yy)\n",
    "ax.set_xticklabels(anos)\n",
    "ax.set_title(\"Precipitación acumulada por año\")\n",
    "ax.set_ylabel('Precipitación(mm)')\n",
    "plt.show()  "
   ]
  },
  {
   "cell_type": "code",
   "execution_count": null,
   "metadata": {
    "collapsed": true
   },
   "outputs": [],
   "source": []
  },
  {
   "cell_type": "markdown",
   "metadata": {},
   "source": [
    "Elabora una gráfica de la evolución de la temperatura máxima y mínima en la misma figura, como función del tiempo de la colección de datos."
   ]
  },
  {
   "cell_type": "code",
   "execution_count": 15,
   "metadata": {},
   "outputs": [
    {
     "data": {
      "image/png": "[encoded data removed]",
      "text/plain": [
       "<matplotlib.figure.Figure at 0x216d678afd0>"
      ]
     },
     "metadata": {},
     "output_type": "display_data"
    }
   ],
   "source": [
    "# Elabora una gráfica de la evolución de la temperatura máxima y mínima en la\n",
    "# misma figura, como función del tiempo de la colección de datos. \n",
    "\n",
    "\n",
    "tmin = []\n",
    "for i in range(12):\n",
    "    TminPromMensual = data[data['Mes']==i+1]['Tmin'].sum()/data[data['Mes']\\\n",
    "                          ==i+1]['Tmin'].count()\n",
    "    tmin.append(np.round(TminPromMensual, decimals=0))\n",
    "    \n",
    "#    print(\"Tmin Mes\", i+1,\":\", np.round(TminPromMensual, decimals=2), \"ºC\")\n",
    "\n",
    "tmax = []\n",
    "for i in range(12):\n",
    "    TmaxPromMensual = data[data['Mes']==i+1]['Tmax'].sum()/data[data['Mes']\\\n",
    "                          ==i+1]['Tmax'].count()\n",
    "    tmax.append(np.round(TmaxPromMensual, decimals=0))\n",
    "#    print(\"Tmax Mes\", i+1,\":\", np.round(TmaxPromMensual, decimals=2), \"ºC\")\n",
    "\n",
    "\n",
    "aa = np.arange(1,len(tmin)+1)\n",
    "bb = np.arange(1,len(tmax)+1)\n",
    "fig = plt.figure()\n",
    "ax = fig.add_subplot(111)\n",
    "ax.plot(aa,tmin)\n",
    "ax.plot(bb,tmax)\n",
    "plt.show()\n",
    "\n",
    "ax.set_xticks(aa)\n",
    "ax.set_xticklabels(meses)\n",
    "ax.set_title(\"Temperaturas máximas y mínimas por mes\")\n",
    "ax.set_ylabel('Temperaturas (°C)')\n",
    "ax.set_xlabel('Meses')\n",
    "ax.grid\n",
    "plt.show()"
   ]
  },
  {
   "cell_type": "code",
   "execution_count": 16,
   "metadata": {},
   "outputs": [
    {
     "data": {
      "image/png": "[encoded data removed]",
      "text/plain": [
       "<matplotlib.figure.Figure at 0x216d5768ba8>"
      ]
     },
     "metadata": {},
     "output_type": "display_data"
    }
   ],
   "source": [
    "# Elabora una gráfica de cajas (boxplot) de la temperatura promedio \n",
    "# mensual para la temperatura mínima y máxima por separado.   \n",
    "\n",
    "tminp = []\n",
    "for i in range(12):\n",
    "    TminPromMensual = data[data['Mes']==i+1]['Tmin'].sum()/data[data['Mes']\\\n",
    "                          ==i+1]['Tmin'].count()\n",
    "    tminp.append(np.round(TminPromMensual, decimals=0))\n",
    "    \n",
    "#    print(\"Tmin Mes\", i+1,\":\", np.round(TminPromMensual, decimals=2), \"ºC\")\n",
    "\n",
    "tmaxp = []\n",
    "for i in range(12):\n",
    "    TmaxPromMensual = data[data['Mes']==i+1]['Tmax'].sum()/data[data['Mes']\\\n",
    "                          ==i+1]['Tmax'].count()\n",
    "    tmaxp.append(np.round(TmaxPromMensual, decimals=0))\n",
    "#    print(\"Tmax Mes\", i+1,\":\", np.round(TmaxPromMensual, decimals=2), \"ºC\")\n",
    "\n",
    "\n",
    "fig = plt.figure()\n",
    "ax1 = fig.add_subplot(121)\n",
    "ax2 = fig.add_subplot(122)\n",
    "\n",
    "\n",
    "ax1.boxplot(tminp)\n",
    "#ax1.ylabel(\"temperatura mínima promedio\")\n",
    "#ax1.title(\"Gráfico de caja y bigotes\")\n",
    "ax1.set_title(\"Gráfico de caja y bigotes 1\")\n",
    "ax1.set_ylabel('temperatura mínima promedio')\n",
    "\n",
    "ax2.boxplot(tmaxp)\n",
    "#ax2.ylabel(\"temperatura mínima promedio\")\n",
    "#ax2.title(\"Gráfico de caja y bigotes\")\n",
    "ax2.set_title(\"Gráfico de caja y bigotes 2\")\n",
    "ax2.set_ylabel('temperatura máxima promedio')\n",
    "\n",
    "plt.show()"
   ]
  },
  {
   "cell_type": "code",
   "execution_count": 20,
   "metadata": {},
   "outputs": [
    {
     "name": "stderr",
     "output_type": "stream",
     "text": [
      "C:\\Users\\olguin aguilar\\Anaconda3\\lib\\site-packages\\ipykernel_launcher.py:8: RuntimeWarning: invalid value encountered in long_scalars\n",
      "  \n",
      "C:\\Users\\olguin aguilar\\Anaconda3\\lib\\site-packages\\ipykernel_launcher.py:21: RuntimeWarning: invalid value encountered in long_scalars\n"
     ]
    },
    {
     "data": {
      "image/png": "[encoded data removed]",
      "text/plain": [
       "<matplotlib.figure.Figure at 0x216d570d198>"
      ]
     },
     "metadata": {},
     "output_type": "display_data"
    }
   ],
   "source": [
    "\n",
    "# Elabora una gráfica de cajas de la temperatura mínima y máxima promedio\n",
    "# anual para cada año por separado. \n",
    "\n",
    "tmax2=[]\n",
    "for i in range(1973,2011):\n",
    "    NumDatos= data['Tmax'][data['Año']==[i+1]].count()\n",
    "    TempPromMax = data['Tmax'][data['Año']==[i+1]].sum()/NumDatos\n",
    "    tmax2.append( np.round(TempPromMax, decimals=0))\n",
    "    \n",
    "#    print(\"Año\", i+1,\":\", np.round(TempPromMax , decimals=2), \"°C\")\n",
    "\n",
    "#print(tmax2)\n",
    "    \n",
    "tmaxdat= [30.0, 28.0, 29.0, 27.0, 28.0, 27.0, 28.0, 27.0, 26.0, 26.0, 27.0,\\\n",
    "          26.0, 27.0, 27.0, 23.0, 27.0, 26.0, 28.0, 27.0, 20.0,\\\n",
    "          29.0, 28.0, 27.0, 26.0]   \n",
    "\n",
    "# Años más frios\n",
    "tmin2=[]\n",
    "for i in range(1973,2011):\n",
    "    NumDatos= data['Tmin'][data['Año']==[i+1]].count()\n",
    "    TempPromMin = data['Tmin'][data['Año']==[i+1]].sum()/NumDatos\n",
    "    tmin2.append( np.round(TempPromMin, decimals=0))\n",
    "#    print(\"Año\", i+1,\":\",np.round(TempPromMin , decimals=2), \"°C\")\n",
    "    \n",
    "tmindat=[17.0, 12.0, 12.0, 15.0, 14.0, 13.0, 15.0, 15.0, 14.0, 14.0,\\\n",
    "         14.0, 13.0, 14.0, 16.0, 9.0, 14.0, 13.0, 15.0, 14.0, 5.0,\\\n",
    "         18.0, 16.0, 15.0, 12.0]\n",
    "\n",
    "fig = plt.figure()\n",
    "ax3 = fig.add_subplot(121)\n",
    "ax4 = fig.add_subplot(122)\n",
    "\n",
    "\n",
    "ax3.boxplot(tmindat)\n",
    "#ax1.ylabel(\"temperatura mínima promedio\")\n",
    "#ax1.title(\"Gráfico de caja y bigotes\")\n",
    "ax3.set_title(\"Gráfico de caja y bigotes 1\")\n",
    "ax3.set_ylabel('temperatura mínima promedio')\n",
    "plt.show()\n",
    "\n",
    "ax4.boxplot(tmaxdat)\n",
    "#ax2.ylabel(\"temperatura mínima promedio\")\n",
    "#ax2.title(\"Gráfico de caja y bigotes\")\n",
    "ax4.set_title(\"Gráfico de caja y bigotes 2\")\n",
    "ax4.set_ylabel('temperatura máxima promedio')\n",
    "\n",
    "plt.show()\n"
   ]
  },
  {
   "cell_type": "code",
   "execution_count": null,
   "metadata": {
    "collapsed": true
   },
   "outputs": [],
   "source": []
  }
 ],
 "metadata": {
  "kernelspec": {
   "display_name": "Python 3",
   "language": "python",
   "name": "python3"
  },
  "language_info": {
   "codemirror_mode": {
    "name": "ipython",
    "version": 3
   },
   "file_extension": ".py",
   "mimetype": "text/x-python",
   "name": "python",
   "nbconvert_exporter": "python",
   "pygments_lexer": "ipython3",
   "version": "3.6.3"
  }
 },
 "nbformat": 4,
 "nbformat_minor": 2
}
