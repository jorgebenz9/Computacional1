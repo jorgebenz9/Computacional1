{
 "cells": [
  {
   "cell_type": "markdown",
   "metadata": {},
   "source": [
    "# Cambio climatico local"
   ]
  },
  {
   "cell_type": "code",
   "execution_count": 3,
   "metadata": {
    "collapsed": true
   },
   "outputs": [],
   "source": [
    "import pandas as pd\n",
    "import numpy as np\n",
    "import matplotlib.pyplot as plt"
   ]
  },
  {
   "cell_type": "code",
   "execution_count": 4,
   "metadata": {
    "collapsed": true
   },
   "outputs": [],
   "source": [
    "#Descargar el archivo\n",
    "data = pd.read_csv(\"Datos_Hermosillo_editado.txt\",sep=\"\\s+\",skipfooter=1,skiprows=1,engine='python',names=['Fecha', 'Precip', 'Evap', 'Tmax', 'Tmin'])\n",
    "data = data.replace('Nulo','NA')\n",
    "#Cambiamos el tipo de variable de las columnas a flotante\n",
    "data[['Precip','Evap','Tmax','Tmin']] = data[['Precip','Evap','Tmax','Tmin']] \\\n",
    ".apply(pd.to_numeric, errors='coerce')\n",
    "data['NFecha'] =  pd.to_datetime(data['Fecha'], format='%d/%m/%Y')\n",
    "data = data.drop('Fecha', 1)\n",
    "# Crear columnas con Año y Mes extraídos de la fecha \n",
    "data['Año'] = data['NFecha'].dt.year\n",
    "data['Mes'] = data['NFecha'].dt.month\n",
    "# Número de años distintos data['Año'].unique(),\n",
    "NumA = len(data['Año'].unique())"
   ]
  },
  {
   "cell_type": "code",
   "execution_count": 5,
   "metadata": {
    "collapsed": true
   },
   "outputs": [],
   "source": [
    "df=pd.DataFrame(data)"
   ]
  },
  {
   "cell_type": "code",
   "execution_count": 6,
   "metadata": {},
   "outputs": [
    {
     "data": {
      "text/html": [
       "<div>\n",
       "<style>\n",
       "    .dataframe thead tr:only-child th {\n",
       "        text-align: right;\n",
       "    }\n",
       "\n",
       "    .dataframe thead th {\n",
       "        text-align: left;\n",
       "    }\n",
       "\n",
       "    .dataframe tbody tr th {\n",
       "        vertical-align: top;\n",
       "    }\n",
       "</style>\n",
       "<table border=\"1\" class=\"dataframe\">\n",
       "  <thead>\n",
       "    <tr style=\"text-align: right;\">\n",
       "      <th></th>\n",
       "      <th>Precip</th>\n",
       "      <th>Evap</th>\n",
       "      <th>Tmax</th>\n",
       "      <th>Tmin</th>\n",
       "      <th>NFecha</th>\n",
       "      <th>Año</th>\n",
       "      <th>Mes</th>\n",
       "    </tr>\n",
       "  </thead>\n",
       "  <tbody>\n",
       "    <tr>\n",
       "      <th>0</th>\n",
       "      <td>0.0</td>\n",
       "      <td>7.3</td>\n",
       "      <td>35.0</td>\n",
       "      <td>22.0</td>\n",
       "      <td>1974-07-01</td>\n",
       "      <td>1974</td>\n",
       "      <td>7</td>\n",
       "    </tr>\n",
       "    <tr>\n",
       "      <th>1</th>\n",
       "      <td>0.0</td>\n",
       "      <td>10.5</td>\n",
       "      <td>34.0</td>\n",
       "      <td>22.5</td>\n",
       "      <td>1974-07-02</td>\n",
       "      <td>1974</td>\n",
       "      <td>7</td>\n",
       "    </tr>\n",
       "    <tr>\n",
       "      <th>2</th>\n",
       "      <td>0.0</td>\n",
       "      <td>13.6</td>\n",
       "      <td>31.5</td>\n",
       "      <td>21.0</td>\n",
       "      <td>1974-07-03</td>\n",
       "      <td>1974</td>\n",
       "      <td>7</td>\n",
       "    </tr>\n",
       "    <tr>\n",
       "      <th>3</th>\n",
       "      <td>0.0</td>\n",
       "      <td>10.7</td>\n",
       "      <td>41.0</td>\n",
       "      <td>28.0</td>\n",
       "      <td>1974-07-04</td>\n",
       "      <td>1974</td>\n",
       "      <td>7</td>\n",
       "    </tr>\n",
       "    <tr>\n",
       "      <th>4</th>\n",
       "      <td>0.0</td>\n",
       "      <td>10.9</td>\n",
       "      <td>35.0</td>\n",
       "      <td>28.0</td>\n",
       "      <td>1974-07-05</td>\n",
       "      <td>1974</td>\n",
       "      <td>7</td>\n",
       "    </tr>\n",
       "  </tbody>\n",
       "</table>\n",
       "</div>"
      ],
      "text/plain": [
       "   Precip  Evap  Tmax  Tmin     NFecha   Año  Mes\n",
       "0     0.0   7.3  35.0  22.0 1974-07-01  1974    7\n",
       "1     0.0  10.5  34.0  22.5 1974-07-02  1974    7\n",
       "2     0.0  13.6  31.5  21.0 1974-07-03  1974    7\n",
       "3     0.0  10.7  41.0  28.0 1974-07-04  1974    7\n",
       "4     0.0  10.9  35.0  28.0 1974-07-05  1974    7"
      ]
     },
     "execution_count": 6,
     "metadata": {},
     "output_type": "execute_result"
    }
   ],
   "source": [
    "df.head()"
   ]
  },
  {
   "cell_type": "code",
   "execution_count": 7,
   "metadata": {},
   "outputs": [
    {
     "data": {
      "text/plain": [
       "150"
      ]
     },
     "execution_count": 7,
     "metadata": {},
     "output_type": "execute_result"
    }
   ],
   "source": [
    "#numero de datos nulos en la columna\n",
    "pd.isnull(df[\"Tmax\"]).values.ravel().sum()"
   ]
  },
  {
   "cell_type": "code",
   "execution_count": 8,
   "metadata": {},
   "outputs": [
    {
     "data": {
      "text/plain": [
       "149"
      ]
     },
     "execution_count": 8,
     "metadata": {},
     "output_type": "execute_result"
    }
   ],
   "source": [
    "#numero de valores nulos en la columna\n",
    "pd.isnull(df[\"Tmin\"]).values.ravel().sum()"
   ]
  },
  {
   "cell_type": "code",
   "execution_count": 9,
   "metadata": {},
   "outputs": [],
   "source": [
    "df1=df"
   ]
  },
  {
   "cell_type": "code",
   "execution_count": 10,
   "metadata": {},
   "outputs": [
    {
     "data": {
      "text/html": [
       "<div>\n",
       "<style>\n",
       "    .dataframe thead tr:only-child th {\n",
       "        text-align: right;\n",
       "    }\n",
       "\n",
       "    .dataframe thead th {\n",
       "        text-align: left;\n",
       "    }\n",
       "\n",
       "    .dataframe tbody tr th {\n",
       "        vertical-align: top;\n",
       "    }\n",
       "</style>\n",
       "<table border=\"1\" class=\"dataframe\">\n",
       "  <thead>\n",
       "    <tr style=\"text-align: right;\">\n",
       "      <th></th>\n",
       "      <th>Precip</th>\n",
       "      <th>Evap</th>\n",
       "      <th>Tmax</th>\n",
       "      <th>Tmin</th>\n",
       "      <th>NFecha</th>\n",
       "      <th>Año</th>\n",
       "      <th>Mes</th>\n",
       "    </tr>\n",
       "  </thead>\n",
       "  <tbody>\n",
       "    <tr>\n",
       "      <th>0</th>\n",
       "      <td>0.0</td>\n",
       "      <td>7.3</td>\n",
       "      <td>35.0</td>\n",
       "      <td>22.0</td>\n",
       "      <td>1974-07-01</td>\n",
       "      <td>1974</td>\n",
       "      <td>7</td>\n",
       "    </tr>\n",
       "    <tr>\n",
       "      <th>1</th>\n",
       "      <td>0.0</td>\n",
       "      <td>10.5</td>\n",
       "      <td>34.0</td>\n",
       "      <td>22.5</td>\n",
       "      <td>1974-07-02</td>\n",
       "      <td>1974</td>\n",
       "      <td>7</td>\n",
       "    </tr>\n",
       "    <tr>\n",
       "      <th>2</th>\n",
       "      <td>0.0</td>\n",
       "      <td>13.6</td>\n",
       "      <td>31.5</td>\n",
       "      <td>21.0</td>\n",
       "      <td>1974-07-03</td>\n",
       "      <td>1974</td>\n",
       "      <td>7</td>\n",
       "    </tr>\n",
       "    <tr>\n",
       "      <th>3</th>\n",
       "      <td>0.0</td>\n",
       "      <td>10.7</td>\n",
       "      <td>41.0</td>\n",
       "      <td>28.0</td>\n",
       "      <td>1974-07-04</td>\n",
       "      <td>1974</td>\n",
       "      <td>7</td>\n",
       "    </tr>\n",
       "    <tr>\n",
       "      <th>4</th>\n",
       "      <td>0.0</td>\n",
       "      <td>10.9</td>\n",
       "      <td>35.0</td>\n",
       "      <td>28.0</td>\n",
       "      <td>1974-07-05</td>\n",
       "      <td>1974</td>\n",
       "      <td>7</td>\n",
       "    </tr>\n",
       "  </tbody>\n",
       "</table>\n",
       "</div>"
      ],
      "text/plain": [
       "   Precip  Evap  Tmax  Tmin     NFecha   Año  Mes\n",
       "0     0.0   7.3  35.0  22.0 1974-07-01  1974    7\n",
       "1     0.0  10.5  34.0  22.5 1974-07-02  1974    7\n",
       "2     0.0  13.6  31.5  21.0 1974-07-03  1974    7\n",
       "3     0.0  10.7  41.0  28.0 1974-07-04  1974    7\n",
       "4     0.0  10.9  35.0  28.0 1974-07-05  1974    7"
      ]
     },
     "execution_count": 10,
     "metadata": {},
     "output_type": "execute_result"
    }
   ],
   "source": [
    "df1.head()"
   ]
  },
  {
   "cell_type": "code",
   "execution_count": 11,
   "metadata": {},
   "outputs": [
    {
     "data": {
      "text/plain": [
       "150"
      ]
     },
     "execution_count": 11,
     "metadata": {},
     "output_type": "execute_result"
    }
   ],
   "source": [
    "pd.isnull(df1[\"Tmax\"]).values.ravel().sum()"
   ]
  },
  {
   "cell_type": "markdown",
   "metadata": {},
   "source": [
    "Preparamos los datos con los que vamos a trabajar"
   ]
  },
  {
   "cell_type": "code",
   "execution_count": 12,
   "metadata": {
    "collapsed": true
   },
   "outputs": [],
   "source": [
    "#rellenamos los datos nulos con el valor mas pròximo\n",
    "\n",
    "df1[\"Tmax\"]=df1[\"Tmax\"].fillna(method=\"ffill\")\n",
    "df1[\"Tmin\"]=df1[\"Tmin\"].fillna(method=\"ffill\")\n",
    "df1[\"Precip\"]=df1[\"Precip\"].fillna(method=\"ffill\")"
   ]
  },
  {
   "cell_type": "code",
   "execution_count": 13,
   "metadata": {},
   "outputs": [
    {
     "data": {
      "text/plain": [
       "0"
      ]
     },
     "execution_count": 13,
     "metadata": {},
     "output_type": "execute_result"
    }
   ],
   "source": [
    "#verificamos que no tengamos datos nulos en las columnas\n",
    "pd.isnull(df1[\"Tmax\"]).values.ravel().sum()\n",
    "pd.isnull(df1[\"Tmin\"]).values.ravel().sum()\n",
    "pd.isnull(df1[\"Precip\"]).values.ravel().sum()"
   ]
  },
  {
   "cell_type": "code",
   "execution_count": 35,
   "metadata": {},
   "outputs": [],
   "source": [
    "#calculamos el primer indice, número de días con heladas por año (FD: Tmin < 0ºC)\n",
    "   \n",
    "# Filtramos las temperaturas menores a 0°C\n",
    "\n",
    "data_filter = df1[df1['Tmin']<0] \n",
    "\n",
    "# creamos un data frame con data filter\n",
    "\n",
    "data1 = pd.DataFrame(data_filter.groupby('Año').count())  \n",
    "\n",
    "#creamos un data frame con dos columnas: año y número de dias con tem<0\n",
    "\n",
    "data2 = data1.filter(['Tmin'],axis=1) \n",
    "data2['Número de heladas']=data2['Tmin']\n",
    "data2 = data2.drop(['Tmin'],1)    \n",
    "data2 = data2.reset_index()    #cambiamos el indice\n",
    "\n",
    "\n",
    "#Graficamos los datos obtenidos\n",
    "\n",
    "data2.plot.bar(x='Año', y='Número de heladas')\n",
    "plt.title(\"FD: Número de días con heladas por año\")\n",
    "plt.ylabel(\"Días con heladas\") \n",
    "plt.xlabel(\"Años\",)\n",
    "plt.savefig('grafica1') "
   ]
  },
  {
   "cell_type": "code",
   "execution_count": 15,
   "metadata": {},
   "outputs": [
    {
     "data": {
      "text/html": [
       "<div>\n",
       "<style>\n",
       "    .dataframe thead tr:only-child th {\n",
       "        text-align: right;\n",
       "    }\n",
       "\n",
       "    .dataframe thead th {\n",
       "        text-align: left;\n",
       "    }\n",
       "\n",
       "    .dataframe tbody tr th {\n",
       "        vertical-align: top;\n",
       "    }\n",
       "</style>\n",
       "<table border=\"1\" class=\"dataframe\">\n",
       "  <thead>\n",
       "    <tr style=\"text-align: right;\">\n",
       "      <th></th>\n",
       "      <th>Año</th>\n",
       "      <th>Número de heladas</th>\n",
       "    </tr>\n",
       "  </thead>\n",
       "  <tbody>\n",
       "    <tr>\n",
       "      <th>0</th>\n",
       "      <td>1975</td>\n",
       "      <td>1</td>\n",
       "    </tr>\n",
       "    <tr>\n",
       "      <th>1</th>\n",
       "      <td>1976</td>\n",
       "      <td>2</td>\n",
       "    </tr>\n",
       "    <tr>\n",
       "      <th>2</th>\n",
       "      <td>1985</td>\n",
       "      <td>2</td>\n",
       "    </tr>\n",
       "    <tr>\n",
       "      <th>3</th>\n",
       "      <td>1990</td>\n",
       "      <td>3</td>\n",
       "    </tr>\n",
       "    <tr>\n",
       "      <th>4</th>\n",
       "      <td>2011</td>\n",
       "      <td>2</td>\n",
       "    </tr>\n",
       "  </tbody>\n",
       "</table>\n",
       "</div>"
      ],
      "text/plain": [
       "    Año  Número de heladas\n",
       "0  1975                  1\n",
       "1  1976                  2\n",
       "2  1985                  2\n",
       "3  1990                  3\n",
       "4  2011                  2"
      ]
     },
     "execution_count": 15,
     "metadata": {},
     "output_type": "execute_result"
    }
   ],
   "source": [
    "data2"
   ]
  },
  {
   "cell_type": "code",
   "execution_count": 16,
   "metadata": {
    "collapsed": true
   },
   "outputs": [],
   "source": [
    "# 2.- Número de días de verano por año (SU: Tmax > 25ºC)\n",
    "\n",
    "\n",
    "# Filtramos las temperaturas mayores a 25°C\n",
    "\n",
    "data_filter1 = df1[df1['Tmax']>25] \n",
    "\n",
    "# creamos un data frame con data_filter1\n",
    "\n",
    "data3 = pd.DataFrame(data_filter1.groupby('Año').count())  \n",
    "\n",
    "#creamos un data frame con dos columnas: año y número de dias con tem>25\n",
    "\n",
    "data4 = data3.filter(['Tmax'],axis=1) \n",
    "data4['#Tem>25']=data4['Tmax']\n",
    "data4 = data4.drop(['Tmax'],1)    \n",
    "data4 = data4.reset_index()    #cambiamos el indice\n",
    "data4\n",
    "\n",
    "#Graficamos los datos obtenidos\n",
    "\n",
    "data4.plot.bar(x='Año', y='#Tem>25')\n",
    "plt.title(\"FD: Número de días con temperaturas mayores de 25 por año\")\n",
    "plt.ylabel(\"Días\") \n",
    "plt.xlabel(\"Años\")\n",
    "plt.savefig('grafica2') "
   ]
  },
  {
   "cell_type": "code",
   "execution_count": 18,
   "metadata": {},
   "outputs": [],
   "source": [
    "# 3.- Número de noches tropicales por año (TR: Tmin > 20ºC)\n",
    "\n",
    "# Filtramos las temperaturas mayores a 25°C\n",
    "\n",
    "data_filter2 = df1[df1['Tmin']>20] \n",
    "\n",
    "# creamos un data frame con data_filter1\n",
    "\n",
    "data5 = pd.DataFrame(data_filter2.groupby('Año').count())  \n",
    "\n",
    "#creamos un data frame con dos columnas: año y número de dias con Tmin>20\n",
    "\n",
    "\n",
    "data6 = data5.filter(['Tmin'],axis=1) \n",
    "data6['#Tem>20']=data6['Tmin']\n",
    "data6 = data6.drop(['Tmin'],1)    \n",
    "data6 = data6.reset_index()    #cambiamos el indice\n",
    "data6\n",
    "\n",
    "#Graficamos los datos obtenidos\n",
    "\n",
    "data6.plot.bar(x='Año', y='#Tem>20')\n",
    "plt.title(\"FD: Número de noches con temperaturas mayores a 20°C por año\")\n",
    "plt.ylabel(\"Noches\") \n",
    "plt.xlabel(\"Años\")\n",
    "plt.savefig('grafica3') "
   ]
  },
  {
   "cell_type": "code",
   "execution_count": 22,
   "metadata": {},
   "outputs": [],
   "source": [
    "# 4.- Longitud de la estación de cultivo por año (GSL: Periodo entre\n",
    "# los primeros 6 días seguidos del año  Tprom > 5ºC, y los últimos 6\n",
    "# días seguidos del año con Tprom < 5ºC)\n",
    "\n",
    "df['TEMPPROM']=(df['Tmin']+df['Tmax'])/2\n",
    "\n",
    "Tprom = pd.DataFrame( df.filter(['TEMPPROM','Año'],axis=1) )\n",
    "\n",
    "nT = Tprom[Tprom['TEMPPROM']<5]\n",
    "\n",
    "Primeros = []\n",
    "indice = -1\n",
    "\n",
    "for j in range(Tprom[\"Año\"][0],Tprom[\"Año\"][len(df1)-1]+1):\n",
    "    for i in range(5,len(df1)-1):\n",
    "        if(Tprom[\"Año\"][i-5] == j):\n",
    "            if(Tprom[\"TEMPPROM\"][i-5] > 5 and Tprom[\"TEMPPROM\"][i-4] > 5 and Tprom[\"TEMPPROM\"][i-3] > 5 and\n",
    "               Tprom[\"TEMPPROM\"][i-2] > 5 and Tprom[\"TEMPPROM\"][i-1] > 5 and Tprom[\"TEMPPROM\"][i]   > 5):\n",
    "                    indice = i\n",
    "                    break\n",
    "    if(indice != -1):\n",
    "        Primeros.append(indice)\n",
    "        PrimerosSeis= -1\n",
    "    else:\n",
    "        Primeros.append(\"NA\")\n",
    "        \n",
    "        \n",
    "#Tprom > 5ºC, y los últimos 6 días seguidos del año con Tprom < 5ºC)\n",
    "\n",
    "Ultimos = []\n",
    "indice = -1\n",
    "\n",
    "for j in range(Tprom[\"Año\"][len(df1)-1],Tprom[\"Año\"][0]-1,-1):\n",
    "    for i in range(len(df1)-1,5,-1):\n",
    "        if(Tprom[\"Año\"][i] == j):\n",
    "            if(Tprom[\"TEMPPROM\"][i-5] < 5 and Tprom[\"TEMPPROM\"][i-4] < 5 and Tprom[\"TEMPPROM\"][i-3] < 5 and\n",
    "               Tprom[\"TEMPPROM\"][i-2] < 5 and Tprom[\"TEMPPROM\"][i-1] < 5 and Tprom[\"TEMPPROM\"][i]   < 5):\n",
    "                    indice = i-5\n",
    "                    break\n",
    "    if(indice != -1):\n",
    "        Ultimos.append(indice)\n",
    "        indice = -1\n",
    "    else:\n",
    "        Ultimos.append(\"NA\")\n",
    "        \n",
    "Ultimos = Ultimos[::-1]\n",
    "\n",
    "#Si la temperatura nunca es mayor a los 5 grados, interpretar la temporada de cultivo como nula\n",
    "GSL = []\n",
    "inicial = Tprom['Año'][0]\n",
    "for i in range(0,len(Ultimos)):\n",
    "    if(Ultimos[i]!=\"NA\" and Primeros[i]!=\"NA\"):\n",
    "        GSL.append(Ultimos[i]-Primeros[i])\n",
    "    if(Ultimos[i]=='NA'):\n",
    "            GSL.append( len(Tprom[ Tprom['Año'] == inicial].index) )\n",
    "    else:\n",
    "        if(Primeros[i]=='NA'):\n",
    "            GSL.append(0)\n",
    "    inicial=inicial+1\n",
    "    \n",
    "    \n",
    "\n",
    " \n"
   ]
  },
  {
   "cell_type": "code",
   "execution_count": 23,
   "metadata": {
    "collapsed": true
   },
   "outputs": [],
   "source": [
    "# 5.- TXx: La máxima mensual de la temperatura máxima, max(Tmax).\n",
    "\n",
    "TemMax=[]\n",
    "inicial=df1['Año'][0]\n",
    "nAños=df1['Año'].nunique()\n",
    "\n",
    "#El primer loop crea un DataFrame del año\n",
    "for i in range(0,nAños):\n",
    "        daño = df1[df1['Año']==inicial]\n",
    "        \n",
    "        #El segundo loop crea un DataFrame por mes\n",
    "        for j in range (1,13):\n",
    "                dmes = daño[daño['Mes']==j]\n",
    "                \n",
    "                #Se busca la máxima de Tmax \n",
    "                TmaxMes = dmes.Tmax.max()\n",
    "                TemMax.append(TmaxMes)    \n",
    "        inicial=inicial+1\n",
    "\n",
    "plt.plot(TemMax)   \n",
    "plt.xlabel(\"Meses\")   \n",
    "plt.ylabel(\"Temperatura (°C)\")  \n",
    "plt.title('Máximo mensual de la temperatura máxima')\n",
    "plt.savefig('grafica5')\n"
   ]
  },
  {
   "cell_type": "code",
   "execution_count": 24,
   "metadata": {
    "collapsed": true
   },
   "outputs": [],
   "source": [
    "#6.- TNx. La máxima mensual de la temperatura mínima, max(Tmin).\n",
    "\n",
    "TemMin=[]\n",
    "inicial=df1['Año'][0]\n",
    "nAños=df1['Año'].nunique()\n",
    "\n",
    "#El primer loop crea un DataFrame del año\n",
    "for i in range(0,nAños):\n",
    "        daño = df1[df1['Año']==inicial]\n",
    "        \n",
    "        #El segundo loop crea un DataFrame por mes\n",
    "        for j in range (1,13):\n",
    "                dmes = daño[daño['Mes']==j]\n",
    "                \n",
    "                #Se busca la máxima de Tmax \n",
    "                TmaxMes = dmes.Tmin.max()\n",
    "                TemMin.append(TmaxMes)    \n",
    "        inicial=inicial+1\n",
    "\n",
    "plt.plot(TemMin)   \n",
    "plt.xlabel(\"Meses\")   \n",
    "plt.ylabel(\"Temperatura (°C)\")  \n",
    "plt.title('Máximo mensual de la temperatura mínima')\n",
    "plt.savefig('grafica6')"
   ]
  },
  {
   "cell_type": "code",
   "execution_count": 25,
   "metadata": {
    "collapsed": true
   },
   "outputs": [],
   "source": [
    "# 7.- El mínimo mensual de la temperatura máxima, min(Tmax). \n",
    "\n",
    "TemMax1=[]\n",
    "inicial=df1['Año'][0]\n",
    "nAños=df1['Año'].nunique()\n",
    "\n",
    "#El primer loop crea un DataFrame del año\n",
    "for i in range(0,nAños):\n",
    "        daño = df1[df1['Año']==inicial]\n",
    "        \n",
    "        #El segundo loop crea un DataFrame por mes\n",
    "        for j in range (1,13):\n",
    "                dmes = daño[daño['Mes']==j]\n",
    "                \n",
    "                #Se busca la máxima de Tmax \n",
    "                TmaxMes = dmes.Tmax.min()\n",
    "                TemMax1.append(TmaxMes)    \n",
    "        inicial=inicial+1\n",
    "\n",
    "plt.plot(TemMax1)   \n",
    "plt.xlabel(\"Meses\")   \n",
    "plt.ylabel(\"Temperatura (°C)\")  \n",
    "plt.title('Mínimo mensual de la temperatura máxima')\n",
    "plt.savefig('grafica7')\n"
   ]
  },
  {
   "cell_type": "code",
   "execution_count": 26,
   "metadata": {
    "collapsed": true
   },
   "outputs": [],
   "source": [
    "# 8.- El mínimo mensual de la temperatura mínima, min(Tmin).\n",
    "\n",
    "\n",
    "TemMin1=[]\n",
    "inicial=df1['Año'][0]\n",
    "nAños=df1['Año'].nunique()\n",
    "\n",
    "#El primer loop crea un DataFrame del año\n",
    "for i in range(0,nAños):\n",
    "        daño = df1[df1['Año']==inicial]\n",
    "        \n",
    "        #El segundo loop crea un DataFrame por mes\n",
    "        for j in range (1,13):\n",
    "                dmes = daño[daño['Mes']==j]\n",
    "                \n",
    "                #Se busca la máxima de Tmax \n",
    "                TmaxMes = dmes.Tmin.min()\n",
    "                TemMin1.append(TmaxMes)    \n",
    "        inicial=inicial+1\n",
    "\n",
    "plt.plot(TemMin1)   \n",
    "plt.xlabel(\"Meses\")   \n",
    "plt.ylabel(\"Temperatura (°C)\")  \n",
    "plt.title('Mínimo mensual de la temperatura mínima')\n",
    "plt.savefig('grafica8')"
   ]
  },
  {
   "cell_type": "code",
   "execution_count": 27,
   "metadata": {
    "collapsed": true
   },
   "outputs": [],
   "source": [
    "# 9.- El promedio mensual de la diferencia de temperaturas (Tmax-Tmin). \n",
    "\n",
    "df1['dif_T']=(df1.Tmax-df1.Tmin)#creamos una columna en el DF1 con la\n",
    "# diferencia de Tmax y Tmin\n",
    "\n",
    "\n",
    "DTR=[]\n",
    "inicial=df1['Año'][0]\n",
    "num_años=df1['Año'].nunique()\n",
    "\n",
    "for i in range(0,num_años):\n",
    "        df_año = df1[df1['Año']==inicial]\n",
    "        \n",
    "        for j in range (1,13):\n",
    "                df_mes = df_año[df_año['Mes']==j]\n",
    "                dif_T_prom = df_mes.dif_T.mean()\n",
    "                DTR.append( dif_T_prom ) \n",
    "                \n",
    "        inicial=inicial+1\n",
    "        \n",
    "        \n",
    "        \n",
    "plt.plot(DTR)\n",
    "   \n",
    "plt.xlabel(\"Meses\")   \n",
    "plt.ylabel(\"Temperatura (°C)\")  \n",
    "plt.title('Promedio mensual de la diferencia de temperaturas')\n",
    "plt.savefig('grafica9')\n"
   ]
  },
  {
   "cell_type": "code",
   "execution_count": 28,
   "metadata": {
    "collapsed": true
   },
   "outputs": [],
   "source": [
    "# 10.- Precipitación diaria máxima mensual\n",
    "\n",
    "PdMm = []\n",
    "inicial=df1['Año'][0]\n",
    "nAños=df1['Año'].nunique()\n",
    "\n",
    "for i in range(0,nAños):\n",
    "    df_año = df1[df1['Año']==inicial]\n",
    "    for j in range(1,13):\n",
    "        df_mes = df_año[df_año['Mes']==j]\n",
    "        if(df_mes['Precip'].mean()!=0 and df_mes['Precip'].count()!=0):\n",
    "            maxid = df_mes['Precip'].idxmax()\n",
    "            maxim = df_mes['Precip'][maxid]\n",
    "            PdMm.append(maxim)\n",
    "        else:  \n",
    "            PdMm.append(0.0)\n",
    "            \n",
    "    inicial=inicial+1\n",
    "    \n",
    "\n",
    "plt.plot(PdMm, label = \"Precipitación diaria máxima mensual\")   \n",
    "plt.xlabel(\"Meses\")   \n",
    "plt.ylabel(\"Precipitación (mm)\")  \n",
    "#plt.legend()\n",
    "plt.title('Precipitación diaria máxima mensual')\n",
    "plt.savefig('grafica10')"
   ]
  },
  {
   "cell_type": "code",
   "execution_count": 29,
   "metadata": {
    "collapsed": true
   },
   "outputs": [],
   "source": [
    "# 11.- Precipitación diaria máxima mensual en 5 días consecutivos. \n",
    "\n",
    "PdMm5d = []\n",
    "Tms = -1\n",
    "\n",
    "primer_año=df1['Año'][0]\n",
    "num_años=df1['Año'].nunique()\n",
    "\n",
    "for i in range(0,num_años):\n",
    "    df_año = df1[df1['Año']==primer_año]\n",
    "    for j in range(1,13):\n",
    "        df_mes = df_año[df_año['Mes']==j]\n",
    "        df_mes = df_mes.reset_index()\n",
    "        if(df_mes.Precip.count()!=0 and df_mes.Precip.mean()!=0):\n",
    "            for k in range(4,len(df_mes)):\n",
    "                lluvia = (df_mes[\"Precip\"][k-4]+df_mes[\"Precip\"][k-3]+\n",
    "                         df_mes[\"Precip\"][k-2]+df_mes[\"Precip\"][k-1]+\n",
    "                         df_mes[\"Precip\"][k])\n",
    "               \n",
    "                if(lluvia>Tms):\n",
    "                    Tms=lluvia\n",
    "            \n",
    "            PdMm5d.append(Tms)\n",
    "            Tms=-1\n",
    "        else:\n",
    "            PdMm5d.append(0.0)\n",
    "        \n",
    "    primer_año=primer_año+1\n",
    "    \n",
    "\n",
    "plt.plot(PdMm5d)   \n",
    "plt.xlabel(\"Meses\")   \n",
    "plt.ylabel(\"Precipitación (mm)\")  \n",
    "plt.title('Precipitación diaria máxima mensual en 5 días consecutivos')\n",
    "plt.savefig('grafica11')"
   ]
  },
  {
   "cell_type": "code",
   "execution_count": 30,
   "metadata": {
    "collapsed": true
   },
   "outputs": [],
   "source": [
    "# 12.- Número de días en un año con precipitación mayor igual a 1mm. \n",
    "\n",
    "SDII=pd.DataFrame( df1.loc[df1['Precip'] >= 1 ] )\n",
    "SDII=pd.DataFrame( SDII.groupby('Año').count() )\n",
    "SDII_df = SDII.filter(['Precip'],axis=1)\n",
    "\n",
    "SDII_df['dias_precip'] = SDII_df['Precip'] \n",
    "SDII_df = SDII_df.drop(['Precip'],1)             \n",
    "SDII_df= SDII_df.reset_index()\n",
    "\n",
    "\n",
    "SDII_df.plot.bar(x='Año',y='dias_precip') \n",
    "plt.title(\"Días con precipitación mayor a 1mm por año\")       \n",
    "plt.ylabel(\"Número de días\")                                      \n",
    "plt.xlabel(\"Año\")                                               \n",
    "plt.savefig('grafica12')"
   ]
  },
  {
   "cell_type": "code",
   "execution_count": 31,
   "metadata": {
    "collapsed": true
   },
   "outputs": [],
   "source": [
    "# 13.- Número de días en el año con precipitación diaria mayor igual a 10 mm.\n",
    "\n",
    "R10mm=pd.DataFrame( df.loc[df['Precip'] >= 10 ] )\n",
    "R10mm=pd.DataFrame( R10mm.groupby('Año').count() )\n",
    "\n",
    "\n",
    "R10mm_df = R10mm.filter(['Precip'],axis=1)\n",
    "R10mm_df['dias_precip_10'] = R10mm_df['Precip']\n",
    "R10mm_df = R10mm_df.drop(['Precip'],1)\n",
    "R10mm_df= R10mm_df.reset_index()\n",
    "\n",
    "#13va Gráfica: R10mm\n",
    "R10mm_df.plot.bar(x='Año',y='dias_precip_10')\n",
    "plt.title(\"Días con precipitación mayor a 10mm por año\")      \n",
    "plt.ylabel(\"Número de días\")                                      \n",
    "plt.xlabel(\"Año\")                                               \n",
    "plt.savefig('grafica13')\n"
   ]
  },
  {
   "cell_type": "code",
   "execution_count": 32,
   "metadata": {
    "collapsed": true
   },
   "outputs": [],
   "source": [
    "# 14.- Número de días en el año con precipitación diaria mayor igual a 20mm. \n",
    "\n",
    "R20mm=pd.DataFrame( df.loc[df['Precip'] >= 20 ] )\n",
    "R20mm=pd.DataFrame( R20mm.groupby('Año').count() )\n",
    "\n",
    "R20mm_df = R20mm.filter(['Precip'],axis=1)\n",
    "R20mm_df['dias_precip_20'] = R20mm_df['Precip']\n",
    "R20mm_df = R20mm_df.drop(['Precip'],1)\n",
    "R20mm_df= R20mm_df.reset_index()\n",
    "\n",
    "#14va Gráfica: R20mm\n",
    "R20mm_df.plot.bar(x='Año',y='dias_precip_20')\n",
    "plt.title(\"Días con precipitación mayor a 20mm por año\")      \n",
    "plt.ylabel(\"Número de días\")                                      \n",
    "plt.xlabel(\"Año\")                                               \n",
    "plt.savefig('grafica14')"
   ]
  },
  {
   "cell_type": "code",
   "execution_count": 33,
   "metadata": {},
   "outputs": [
    {
     "data": {
      "text/plain": [
       "\"\\nCDD_año = []\\nCDD = []\\ndias = 0\\n\\ninicial=df1['Año'][0]\\nnAños=df1['Año'].nunique()\\n\\nfor i in range(0,nAños):\\n    daño = df[df['Año']==inicial]\\n    daño = daño.reset_index()\\n    for k in range(0,len(daño)):\\n        if(daño['Precip'][k]<1):\\n            dias = dias +1\\n        else:\\n            CDD_año.append(dias)\\n            dias=0\\n    CDD_max=max(CDD_año)\\n    CDD_año = []\\n    CDD.append(CDD_max)\\n    inicial=inicial+1\\n     \\n\\n\\nAÑOS = [inicial+i for i in range(0, nAños)]\\n\\n\\nX = AÑOS\\nN = np.arange(len(X))\\nY = CDD\\n \\nplt.bar(N, Y,  width=0.5,align='center', alpha=0.7,color='#D2691E')\\nplt.xticks(N, X, size = 'small', color = 'k', rotation = 90)\\nplt.title('Número de días consecutivos secos.')\\nplt.xlabel('Años')\\nplt.ylabel('Número de días')\\nplt.savefig('grafica15')\\n\\n\""
      ]
     },
     "execution_count": 33,
     "metadata": {},
     "output_type": "execute_result"
    }
   ],
   "source": [
    "# 15.- Número de días consecutivos secos, sin precipitación\n",
    "# o precipitación < 1mm.\n",
    "'''\n",
    "CDD_año = []\n",
    "CDD = []\n",
    "dias = 0\n",
    "\n",
    "inicial=df1['Año'][0]\n",
    "nAños=df1['Año'].nunique()\n",
    "\n",
    "for i in range(0,nAños):\n",
    "    daño = df[df['Año']==inicial]\n",
    "    daño = daño.reset_index()\n",
    "    for k in range(0,len(daño)):\n",
    "        if(daño['Precip'][k]<1):\n",
    "            dias = dias +1\n",
    "        else:\n",
    "            CDD_año.append(dias)\n",
    "            dias=0\n",
    "    CDD_max=max(CDD_año)\n",
    "    CDD_año = []\n",
    "    CDD.append(CDD_max)\n",
    "    inicial=inicial+1\n",
    "     \n",
    "\n",
    "\n",
    "AÑOS = [inicial+i for i in range(0, nAños)]\n",
    "\n",
    "\n",
    "X = AÑOS\n",
    "N = np.arange(len(X))\n",
    "Y = CDD\n",
    " \n",
    "plt.bar(N, Y,  width=0.5,align='center', alpha=0.7,color='#D2691E')\n",
    "plt.xticks(N, X, size = 'small', color = 'k', rotation = 90)\n",
    "plt.title('Número de días consecutivos secos.')\n",
    "plt.xlabel('Años')\n",
    "plt.ylabel('Número de días')\n",
    "plt.savefig('grafica15')\n",
    "\n",
    "'''"
   ]
  },
  {
   "cell_type": "code",
   "execution_count": 34,
   "metadata": {},
   "outputs": [
    {
     "data": {
      "text/plain": [
       "\"\\nCWD_año = []\\nCWD = []\\ndias = 0\\n\\ninicial=df1['Año'][0]\\nnAños=df1['Año'].nunique()\\n\\nfor i in range(0,nAños):\\n    daño = df1[df1['Año']==inicial]\\n    daño = daño.reset_index()\\n    for k in range(0,len(daño)):\\n        if(daño['Precip'][k]>=1):\\n            dias = dias +1\\n        else:\\n            CWD_año.append(dias)\\n            dias=0\\n    CWD_max=max(CWD_año)\\n    CWD_año = []\\n    CWD.append(CWD_max)\\n    inicial=inicial+1\\n\\n\\nAÑOS = [inicial+i for i in range(0, nAños)]\\n\\nprint(AÑOS)\\nlen(AÑOS)\\nprint(CWD)\\nlen(CWD)\\n\\n\\nX = AÑOS\\nN = np.arange(len(X))\\nY = CWD\\n \\nplt.bar(N, Y,  width=0.5,align='center', alpha=0.7,color='#778899')\\nplt.xticks(N, X, size = 'small', color = 'k', rotation = 90)\\nplt.title('CWD: Número de días consecutivos húmedos.')\\nplt.xlabel('Años')\\nplt.ylabel('Número de días')\\nplt.savefig('grafica16')\\n\""
      ]
     },
     "execution_count": 34,
     "metadata": {},
     "output_type": "execute_result"
    }
   ],
   "source": [
    "#16.- Número de días consecutivos húmedos, con precipitación igual o mayor a 1mm. \n",
    "\n",
    "'''\n",
    "CWD_año = []\n",
    "CWD = []\n",
    "dias = 0\n",
    "\n",
    "inicial=df1['Año'][0]\n",
    "nAños=df1['Año'].nunique()\n",
    "\n",
    "for i in range(0,nAños):\n",
    "    daño = df1[df1['Año']==inicial]\n",
    "    daño = daño.reset_index()\n",
    "    for k in range(0,len(daño)):\n",
    "        if(daño['Precip'][k]>=1):\n",
    "            dias = dias +1\n",
    "        else:\n",
    "            CWD_año.append(dias)\n",
    "            dias=0\n",
    "    CWD_max=max(CWD_año)\n",
    "    CWD_año = []\n",
    "    CWD.append(CWD_max)\n",
    "    inicial=inicial+1\n",
    "\n",
    "\n",
    "AÑOS = [inicial+i for i in range(0, nAños)]\n",
    "\n",
    "print(AÑOS)\n",
    "len(AÑOS)\n",
    "print(CWD)\n",
    "len(CWD)\n",
    "\n",
    "\n",
    "X = AÑOS\n",
    "N = np.arange(len(X))\n",
    "Y = CWD\n",
    " \n",
    "plt.bar(N, Y,  width=0.5,align='center', alpha=0.7,color='#778899')\n",
    "plt.xticks(N, X, size = 'small', color = 'k', rotation = 90)\n",
    "plt.title('CWD: Número de días consecutivos húmedos.')\n",
    "plt.xlabel('Años')\n",
    "plt.ylabel('Número de días')\n",
    "plt.savefig('grafica16')\n",
    "'''\n"
   ]
  },
  {
   "cell_type": "code",
   "execution_count": null,
   "metadata": {
    "collapsed": true
   },
   "outputs": [],
   "source": []
  }
 ],
 "metadata": {
  "kernelspec": {
   "display_name": "Python 3",
   "language": "python",
   "name": "python3"
  },
  "language_info": {
   "codemirror_mode": {
    "name": "ipython",
    "version": 3
   },
   "file_extension": ".py",
   "mimetype": "text/x-python",
   "name": "python",
   "nbconvert_exporter": "python",
   "pygments_lexer": "ipython3",
   "version": "3.6.3"
  }
 },
 "nbformat": 4,
 "nbformat_minor": 2
}
