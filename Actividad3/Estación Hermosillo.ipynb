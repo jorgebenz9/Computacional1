{
 "cells": [
  {
   "cell_type": "code",
   "execution_count": 1,
   "metadata": {
    "collapsed": true
   },
   "outputs": [],
   "source": [
    "import pandas as pd\n",
    "import numpy as np"
   ]
  },
  {
   "cell_type": "code",
   "execution_count": 2,
   "metadata": {
    "collapsed": true
   },
   "outputs": [],
   "source": [
    "#Descargar el archivo\n",
    "data = pd.read_csv(\"Datos_Hermosillo_editado.txt\",sep=\"\\s+\",skipfooter=1,skiprows=1,engine='python',names=['Fecha', 'Precip', 'Evap', 'Tmax', 'Tmin'])"
   ]
  },
  {
   "cell_type": "code",
   "execution_count": 3,
   "metadata": {},
   "outputs": [
    {
     "data": {
      "text/html": [
       "<div>\n",
       "<style>\n",
       "    .dataframe thead tr:only-child th {\n",
       "        text-align: right;\n",
       "    }\n",
       "\n",
       "    .dataframe thead th {\n",
       "        text-align: left;\n",
       "    }\n",
       "\n",
       "    .dataframe tbody tr th {\n",
       "        vertical-align: top;\n",
       "    }\n",
       "</style>\n",
       "<table border=\"1\" class=\"dataframe\">\n",
       "  <thead>\n",
       "    <tr style=\"text-align: right;\">\n",
       "      <th></th>\n",
       "      <th>Fecha</th>\n",
       "      <th>Precip</th>\n",
       "      <th>Evap</th>\n",
       "      <th>Tmax</th>\n",
       "      <th>Tmin</th>\n",
       "    </tr>\n",
       "  </thead>\n",
       "  <tbody>\n",
       "    <tr>\n",
       "      <th>0</th>\n",
       "      <td>01/07/1974</td>\n",
       "      <td>0</td>\n",
       "      <td>7.3</td>\n",
       "      <td>35</td>\n",
       "      <td>22</td>\n",
       "    </tr>\n",
       "    <tr>\n",
       "      <th>1</th>\n",
       "      <td>02/07/1974</td>\n",
       "      <td>0</td>\n",
       "      <td>10.5</td>\n",
       "      <td>34</td>\n",
       "      <td>22.5</td>\n",
       "    </tr>\n",
       "    <tr>\n",
       "      <th>2</th>\n",
       "      <td>03/07/1974</td>\n",
       "      <td>0</td>\n",
       "      <td>13.6</td>\n",
       "      <td>31.5</td>\n",
       "      <td>21</td>\n",
       "    </tr>\n",
       "    <tr>\n",
       "      <th>3</th>\n",
       "      <td>04/07/1974</td>\n",
       "      <td>0</td>\n",
       "      <td>10.7</td>\n",
       "      <td>41</td>\n",
       "      <td>28</td>\n",
       "    </tr>\n",
       "    <tr>\n",
       "      <th>4</th>\n",
       "      <td>05/07/1974</td>\n",
       "      <td>0</td>\n",
       "      <td>10.9</td>\n",
       "      <td>35</td>\n",
       "      <td>28</td>\n",
       "    </tr>\n",
       "  </tbody>\n",
       "</table>\n",
       "</div>"
      ],
      "text/plain": [
       "        Fecha Precip  Evap  Tmax  Tmin\n",
       "0  01/07/1974      0   7.3    35    22\n",
       "1  02/07/1974      0  10.5    34  22.5\n",
       "2  03/07/1974      0  13.6  31.5    21\n",
       "3  04/07/1974      0  10.7    41    28\n",
       "4  05/07/1974      0  10.9    35    28"
      ]
     },
     "execution_count": 3,
     "metadata": {},
     "output_type": "execute_result"
    }
   ],
   "source": [
    "#Con esta función podemos ver los primeros cinco renglones del archivo de  datos\n",
    "data.head()"
   ]
  },
  {
   "cell_type": "code",
   "execution_count": 4,
   "metadata": {
    "collapsed": true
   },
   "outputs": [],
   "source": [
    "data = data.replace('Nulo','NA')"
   ]
  },
  {
   "cell_type": "code",
   "execution_count": 5,
   "metadata": {},
   "outputs": [
    {
     "data": {
      "text/html": [
       "<div>\n",
       "<style>\n",
       "    .dataframe thead tr:only-child th {\n",
       "        text-align: right;\n",
       "    }\n",
       "\n",
       "    .dataframe thead th {\n",
       "        text-align: left;\n",
       "    }\n",
       "\n",
       "    .dataframe tbody tr th {\n",
       "        vertical-align: top;\n",
       "    }\n",
       "</style>\n",
       "<table border=\"1\" class=\"dataframe\">\n",
       "  <thead>\n",
       "    <tr style=\"text-align: right;\">\n",
       "      <th></th>\n",
       "      <th>Fecha</th>\n",
       "      <th>Precip</th>\n",
       "      <th>Evap</th>\n",
       "      <th>Tmax</th>\n",
       "      <th>Tmin</th>\n",
       "    </tr>\n",
       "  </thead>\n",
       "  <tbody>\n",
       "    <tr>\n",
       "      <th>6630</th>\n",
       "      <td>27/07/2011</td>\n",
       "      <td>0</td>\n",
       "      <td>9.4</td>\n",
       "      <td>34</td>\n",
       "      <td>24</td>\n",
       "    </tr>\n",
       "    <tr>\n",
       "      <th>6631</th>\n",
       "      <td>28/07/2011</td>\n",
       "      <td>0</td>\n",
       "      <td>7</td>\n",
       "      <td>33.5</td>\n",
       "      <td>24.5</td>\n",
       "    </tr>\n",
       "    <tr>\n",
       "      <th>6632</th>\n",
       "      <td>29/07/2011</td>\n",
       "      <td>0</td>\n",
       "      <td>7.6</td>\n",
       "      <td>33</td>\n",
       "      <td>25.5</td>\n",
       "    </tr>\n",
       "    <tr>\n",
       "      <th>6633</th>\n",
       "      <td>30/07/2011</td>\n",
       "      <td>0</td>\n",
       "      <td>8.1</td>\n",
       "      <td>36</td>\n",
       "      <td>25.5</td>\n",
       "    </tr>\n",
       "    <tr>\n",
       "      <th>6634</th>\n",
       "      <td>31/07/2011</td>\n",
       "      <td>0</td>\n",
       "      <td>NA</td>\n",
       "      <td>NA</td>\n",
       "      <td>27.5</td>\n",
       "    </tr>\n",
       "  </tbody>\n",
       "</table>\n",
       "</div>"
      ],
      "text/plain": [
       "           Fecha Precip Evap  Tmax  Tmin\n",
       "6630  27/07/2011      0  9.4    34    24\n",
       "6631  28/07/2011      0    7  33.5  24.5\n",
       "6632  29/07/2011      0  7.6    33  25.5\n",
       "6633  30/07/2011      0  8.1    36  25.5\n",
       "6634  31/07/2011      0   NA    NA  27.5"
      ]
     },
     "execution_count": 5,
     "metadata": {},
     "output_type": "execute_result"
    }
   ],
   "source": [
    "#Con esta función podemos ver los últimos cinco renglones del archivo de  datos\n",
    "#pueden ser los que queramos siutilizamos de la siguiente manera: data.tail(5)\n",
    "data.tail()"
   ]
  },
  {
   "cell_type": "code",
   "execution_count": 6,
   "metadata": {},
   "outputs": [
    {
     "data": {
      "text/plain": [
       "Fecha     object\n",
       "Precip    object\n",
       "Evap      object\n",
       "Tmax      object\n",
       "Tmin      object\n",
       "dtype: object"
      ]
     },
     "execution_count": 6,
     "metadata": {},
     "output_type": "execute_result"
    }
   ],
   "source": [
    "data.dtypes"
   ]
  },
  {
   "cell_type": "code",
   "execution_count": 7,
   "metadata": {
    "collapsed": true
   },
   "outputs": [],
   "source": [
    "#Cambiamos el tipo de variable de las columnas a flotante\n",
    "data[['Precip','Evap','Tmax','Tmin']] = data[['Precip','Evap','Tmax','Tmin']] \\\n",
    ".apply(pd.to_numeric, errors='coerce')"
   ]
  },
  {
   "cell_type": "code",
   "execution_count": 8,
   "metadata": {
    "collapsed": true
   },
   "outputs": [],
   "source": [
    "data['NFecha'] =  pd.to_datetime(data['Fecha'], format='%d/%m/%Y')\n",
    "data = data.drop('Fecha', 1)"
   ]
  },
  {
   "cell_type": "code",
   "execution_count": 9,
   "metadata": {},
   "outputs": [
    {
     "data": {
      "text/plain": [
       "Precip           float64\n",
       "Evap             float64\n",
       "Tmax             float64\n",
       "Tmin             float64\n",
       "NFecha    datetime64[ns]\n",
       "dtype: object"
      ]
     },
     "execution_count": 9,
     "metadata": {},
     "output_type": "execute_result"
    }
   ],
   "source": [
    "data.dtypes"
   ]
  },
  {
   "cell_type": "code",
   "execution_count": 10,
   "metadata": {},
   "outputs": [
    {
     "data": {
      "text/html": [
       "<div>\n",
       "<style>\n",
       "    .dataframe thead tr:only-child th {\n",
       "        text-align: right;\n",
       "    }\n",
       "\n",
       "    .dataframe thead th {\n",
       "        text-align: left;\n",
       "    }\n",
       "\n",
       "    .dataframe tbody tr th {\n",
       "        vertical-align: top;\n",
       "    }\n",
       "</style>\n",
       "<table border=\"1\" class=\"dataframe\">\n",
       "  <thead>\n",
       "    <tr style=\"text-align: right;\">\n",
       "      <th></th>\n",
       "      <th>Precip</th>\n",
       "      <th>Evap</th>\n",
       "      <th>Tmax</th>\n",
       "      <th>Tmin</th>\n",
       "    </tr>\n",
       "  </thead>\n",
       "  <tbody>\n",
       "    <tr>\n",
       "      <th>count</th>\n",
       "      <td>6619.000000</td>\n",
       "      <td>4721.000000</td>\n",
       "      <td>6485.00000</td>\n",
       "      <td>6486.000000</td>\n",
       "    </tr>\n",
       "    <tr>\n",
       "      <th>mean</th>\n",
       "      <td>0.358136</td>\n",
       "      <td>6.096420</td>\n",
       "      <td>27.11192</td>\n",
       "      <td>13.964030</td>\n",
       "    </tr>\n",
       "    <tr>\n",
       "      <th>std</th>\n",
       "      <td>2.788885</td>\n",
       "      <td>2.714726</td>\n",
       "      <td>5.78545</td>\n",
       "      <td>7.048581</td>\n",
       "    </tr>\n",
       "    <tr>\n",
       "      <th>min</th>\n",
       "      <td>0.000000</td>\n",
       "      <td>0.100000</td>\n",
       "      <td>10.50000</td>\n",
       "      <td>-4.000000</td>\n",
       "    </tr>\n",
       "    <tr>\n",
       "      <th>25%</th>\n",
       "      <td>0.000000</td>\n",
       "      <td>4.100000</td>\n",
       "      <td>22.00000</td>\n",
       "      <td>8.000000</td>\n",
       "    </tr>\n",
       "    <tr>\n",
       "      <th>50%</th>\n",
       "      <td>0.000000</td>\n",
       "      <td>6.000000</td>\n",
       "      <td>27.00000</td>\n",
       "      <td>12.500000</td>\n",
       "    </tr>\n",
       "    <tr>\n",
       "      <th>75%</th>\n",
       "      <td>0.000000</td>\n",
       "      <td>7.900000</td>\n",
       "      <td>32.00000</td>\n",
       "      <td>20.000000</td>\n",
       "    </tr>\n",
       "    <tr>\n",
       "      <th>max</th>\n",
       "      <td>70.000000</td>\n",
       "      <td>17.700000</td>\n",
       "      <td>48.50000</td>\n",
       "      <td>30.000000</td>\n",
       "    </tr>\n",
       "  </tbody>\n",
       "</table>\n",
       "</div>"
      ],
      "text/plain": [
       "            Precip         Evap        Tmax         Tmin\n",
       "count  6619.000000  4721.000000  6485.00000  6486.000000\n",
       "mean      0.358136     6.096420    27.11192    13.964030\n",
       "std       2.788885     2.714726     5.78545     7.048581\n",
       "min       0.000000     0.100000    10.50000    -4.000000\n",
       "25%       0.000000     4.100000    22.00000     8.000000\n",
       "50%       0.000000     6.000000    27.00000    12.500000\n",
       "75%       0.000000     7.900000    32.00000    20.000000\n",
       "max      70.000000    17.700000    48.50000    30.000000"
      ]
     },
     "execution_count": 10,
     "metadata": {},
     "output_type": "execute_result"
    }
   ],
   "source": [
    "#Ahora podemos pedir un resumen estadistico de los datos\n",
    "data.describe()"
   ]
  },
  {
   "cell_type": "code",
   "execution_count": 11,
   "metadata": {},
   "outputs": [
    {
     "data": {
      "text/plain": [
       "Precip     0.358136\n",
       "Evap       6.096420\n",
       "Tmax      27.111920\n",
       "Tmin      13.964030\n",
       "dtype: float64"
      ]
     },
     "execution_count": 11,
     "metadata": {},
     "output_type": "execute_result"
    }
   ],
   "source": [
    "data.mean()"
   ]
  },
  {
   "cell_type": "code",
   "execution_count": 12,
   "metadata": {},
   "outputs": [
    {
     "data": {
      "text/plain": [
       "Precip    2.788885\n",
       "Evap      2.714726\n",
       "Tmax      5.785450\n",
       "Tmin      7.048581\n",
       "dtype: float64"
      ]
     },
     "execution_count": 12,
     "metadata": {},
     "output_type": "execute_result"
    }
   ],
   "source": [
    "data.std()"
   ]
  },
  {
   "cell_type": "code",
   "execution_count": 13,
   "metadata": {},
   "outputs": [
    {
     "data": {
      "text/plain": [
       "Precip     0.0\n",
       "Evap       6.0\n",
       "Tmax      27.0\n",
       "Tmin      12.5\n",
       "dtype: float64"
      ]
     },
     "execution_count": 13,
     "metadata": {},
     "output_type": "execute_result"
    }
   ],
   "source": [
    "data.median()"
   ]
  },
  {
   "cell_type": "code",
   "execution_count": 14,
   "metadata": {},
   "outputs": [
    {
     "data": {
      "text/plain": [
       "Precip                      0\n",
       "Evap                      0.1\n",
       "Tmax                     10.5\n",
       "Tmin                       -4\n",
       "NFecha    1974-07-01 00:00:00\n",
       "dtype: object"
      ]
     },
     "execution_count": 14,
     "metadata": {},
     "output_type": "execute_result"
    }
   ],
   "source": [
    "data.min()"
   ]
  },
  {
   "cell_type": "code",
   "execution_count": 15,
   "metadata": {},
   "outputs": [
    {
     "data": {
      "text/plain": [
       "Precip                     70\n",
       "Evap                     17.7\n",
       "Tmax                     48.5\n",
       "Tmin                       30\n",
       "NFecha    2011-07-31 00:00:00\n",
       "dtype: object"
      ]
     },
     "execution_count": 15,
     "metadata": {},
     "output_type": "execute_result"
    }
   ],
   "source": [
    "data.max()"
   ]
  },
  {
   "cell_type": "markdown",
   "metadata": {},
   "source": [
    "¿Cómo le podrás determinar cuáles son los meses más lluviosos?"
   ]
  },
  {
   "cell_type": "code",
   "execution_count": 16,
   "metadata": {},
   "outputs": [
    {
     "data": {
      "text/html": [
       "<div>\n",
       "<style>\n",
       "    .dataframe thead tr:only-child th {\n",
       "        text-align: right;\n",
       "    }\n",
       "\n",
       "    .dataframe thead th {\n",
       "        text-align: left;\n",
       "    }\n",
       "\n",
       "    .dataframe tbody tr th {\n",
       "        vertical-align: top;\n",
       "    }\n",
       "</style>\n",
       "<table border=\"1\" class=\"dataframe\">\n",
       "  <thead>\n",
       "    <tr style=\"text-align: right;\">\n",
       "      <th></th>\n",
       "      <th>Precip</th>\n",
       "      <th>Evap</th>\n",
       "      <th>Tmax</th>\n",
       "      <th>Tmin</th>\n",
       "      <th>NFecha</th>\n",
       "      <th>Año</th>\n",
       "      <th>Mes</th>\n",
       "    </tr>\n",
       "  </thead>\n",
       "  <tbody>\n",
       "    <tr>\n",
       "      <th>0</th>\n",
       "      <td>0.0</td>\n",
       "      <td>7.3</td>\n",
       "      <td>35.0</td>\n",
       "      <td>22.0</td>\n",
       "      <td>1974-07-01</td>\n",
       "      <td>1974</td>\n",
       "      <td>7</td>\n",
       "    </tr>\n",
       "    <tr>\n",
       "      <th>1</th>\n",
       "      <td>0.0</td>\n",
       "      <td>10.5</td>\n",
       "      <td>34.0</td>\n",
       "      <td>22.5</td>\n",
       "      <td>1974-07-02</td>\n",
       "      <td>1974</td>\n",
       "      <td>7</td>\n",
       "    </tr>\n",
       "    <tr>\n",
       "      <th>2</th>\n",
       "      <td>0.0</td>\n",
       "      <td>13.6</td>\n",
       "      <td>31.5</td>\n",
       "      <td>21.0</td>\n",
       "      <td>1974-07-03</td>\n",
       "      <td>1974</td>\n",
       "      <td>7</td>\n",
       "    </tr>\n",
       "    <tr>\n",
       "      <th>3</th>\n",
       "      <td>0.0</td>\n",
       "      <td>10.7</td>\n",
       "      <td>41.0</td>\n",
       "      <td>28.0</td>\n",
       "      <td>1974-07-04</td>\n",
       "      <td>1974</td>\n",
       "      <td>7</td>\n",
       "    </tr>\n",
       "    <tr>\n",
       "      <th>4</th>\n",
       "      <td>0.0</td>\n",
       "      <td>10.9</td>\n",
       "      <td>35.0</td>\n",
       "      <td>28.0</td>\n",
       "      <td>1974-07-05</td>\n",
       "      <td>1974</td>\n",
       "      <td>7</td>\n",
       "    </tr>\n",
       "  </tbody>\n",
       "</table>\n",
       "</div>"
      ],
      "text/plain": [
       "   Precip  Evap  Tmax  Tmin     NFecha   Año  Mes\n",
       "0     0.0   7.3  35.0  22.0 1974-07-01  1974    7\n",
       "1     0.0  10.5  34.0  22.5 1974-07-02  1974    7\n",
       "2     0.0  13.6  31.5  21.0 1974-07-03  1974    7\n",
       "3     0.0  10.7  41.0  28.0 1974-07-04  1974    7\n",
       "4     0.0  10.9  35.0  28.0 1974-07-05  1974    7"
      ]
     },
     "execution_count": 16,
     "metadata": {},
     "output_type": "execute_result"
    }
   ],
   "source": [
    "# Crear columnas con Año y Mes extraídos de la fecha \n",
    "data['Año'] = data['NFecha'].dt.year\n",
    "data['Mes'] = data['NFecha'].dt.month\n",
    "data.head()"
   ]
  },
  {
   "cell_type": "code",
   "execution_count": 17,
   "metadata": {},
   "outputs": [
    {
     "data": {
      "text/html": [
       "<div>\n",
       "<style>\n",
       "    .dataframe thead tr:only-child th {\n",
       "        text-align: right;\n",
       "    }\n",
       "\n",
       "    .dataframe thead th {\n",
       "        text-align: left;\n",
       "    }\n",
       "\n",
       "    .dataframe tbody tr th {\n",
       "        vertical-align: top;\n",
       "    }\n",
       "</style>\n",
       "<table border=\"1\" class=\"dataframe\">\n",
       "  <thead>\n",
       "    <tr style=\"text-align: right;\">\n",
       "      <th></th>\n",
       "      <th>Precip</th>\n",
       "      <th>Evap</th>\n",
       "      <th>Tmax</th>\n",
       "      <th>Tmin</th>\n",
       "      <th>NFecha</th>\n",
       "      <th>Año</th>\n",
       "      <th>Mes</th>\n",
       "    </tr>\n",
       "  </thead>\n",
       "  <tbody>\n",
       "    <tr>\n",
       "      <th>6630</th>\n",
       "      <td>0.0</td>\n",
       "      <td>9.4</td>\n",
       "      <td>34.0</td>\n",
       "      <td>24.0</td>\n",
       "      <td>2011-07-27</td>\n",
       "      <td>2011</td>\n",
       "      <td>7</td>\n",
       "    </tr>\n",
       "    <tr>\n",
       "      <th>6631</th>\n",
       "      <td>0.0</td>\n",
       "      <td>7.0</td>\n",
       "      <td>33.5</td>\n",
       "      <td>24.5</td>\n",
       "      <td>2011-07-28</td>\n",
       "      <td>2011</td>\n",
       "      <td>7</td>\n",
       "    </tr>\n",
       "    <tr>\n",
       "      <th>6632</th>\n",
       "      <td>0.0</td>\n",
       "      <td>7.6</td>\n",
       "      <td>33.0</td>\n",
       "      <td>25.5</td>\n",
       "      <td>2011-07-29</td>\n",
       "      <td>2011</td>\n",
       "      <td>7</td>\n",
       "    </tr>\n",
       "    <tr>\n",
       "      <th>6633</th>\n",
       "      <td>0.0</td>\n",
       "      <td>8.1</td>\n",
       "      <td>36.0</td>\n",
       "      <td>25.5</td>\n",
       "      <td>2011-07-30</td>\n",
       "      <td>2011</td>\n",
       "      <td>7</td>\n",
       "    </tr>\n",
       "    <tr>\n",
       "      <th>6634</th>\n",
       "      <td>0.0</td>\n",
       "      <td>NaN</td>\n",
       "      <td>NaN</td>\n",
       "      <td>27.5</td>\n",
       "      <td>2011-07-31</td>\n",
       "      <td>2011</td>\n",
       "      <td>7</td>\n",
       "    </tr>\n",
       "  </tbody>\n",
       "</table>\n",
       "</div>"
      ],
      "text/plain": [
       "      Precip  Evap  Tmax  Tmin     NFecha   Año  Mes\n",
       "6630     0.0   9.4  34.0  24.0 2011-07-27  2011    7\n",
       "6631     0.0   7.0  33.5  24.5 2011-07-28  2011    7\n",
       "6632     0.0   7.6  33.0  25.5 2011-07-29  2011    7\n",
       "6633     0.0   8.1  36.0  25.5 2011-07-30  2011    7\n",
       "6634     0.0   NaN   NaN  27.5 2011-07-31  2011    7"
      ]
     },
     "execution_count": 17,
     "metadata": {},
     "output_type": "execute_result"
    }
   ],
   "source": [
    "data.tail()"
   ]
  },
  {
   "cell_type": "code",
   "execution_count": 18,
   "metadata": {},
   "outputs": [
    {
     "name": "stdout",
     "output_type": "stream",
     "text": [
      "24 años de datos\n"
     ]
    }
   ],
   "source": [
    "# Número de años distintos data['Año'].unique(),\n",
    "NumA = len(data['Año'].unique())\n",
    "print(NumA, \"años de datos\")"
   ]
  },
  {
   "cell_type": "code",
   "execution_count": 19,
   "metadata": {},
   "outputs": [
    {
     "name": "stdout",
     "output_type": "stream",
     "text": [
      "Enero: 7.508333333333333 mm\n",
      "Febrero: 5.166666666666667 mm\n",
      "Marzo: 1.75 mm\n",
      "Abril: 0.6666666666666666 mm\n",
      "Mayo: 0.2916666666666667 mm\n",
      "Junio: 1.2083333333333333 mm\n",
      "Julio: 13.345833333333333 mm\n",
      "Agosto: 27.808333333333334 mm\n",
      "Septiembre: 16.179166666666667 mm\n",
      "Octubre: 7.983333333333334 mm\n",
      "Noviembre: 3.5749999999999997 mm\n",
      "Diciembre: 13.2875 mm\n"
     ]
    }
   ],
   "source": [
    "# Se puede hacer a 'mano' o en un loop\n",
    "#Primero lo haremos a mano\n",
    "PrecipEne = data[(data['Mes']==1)]['Precip'].sum()/NumA\n",
    "PrecipFeb = data[(data['Mes']==2)]['Precip'].sum()/NumA\n",
    "PrecipMar = data[(data['Mes']==3)]['Precip'].sum()/NumA\n",
    "PrecipAbr = data[(data['Mes']==4)]['Precip'].sum()/NumA\n",
    "PrecipMay = data[(data['Mes']==5)]['Precip'].sum()/NumA\n",
    "PrecipJun = data[(data['Mes']==6)]['Precip'].sum()/NumA\n",
    "PrecipJul = data[(data['Mes']==7)]['Precip'].sum()/NumA\n",
    "PrecipAgo = data[(data['Mes']==8)]['Precip'].sum()/NumA\n",
    "PrecipSep = data[(data['Mes']==9)]['Precip'].sum()/NumA\n",
    "PrecipOct = data[(data['Mes']==10)]['Precip'].sum()/NumA\n",
    "PrecipNov = data[(data['Mes']==11)]['Precip'].sum()/NumA\n",
    "PrecipDic = data[(data['Mes']==12)]['Precip'].sum()/NumA\n",
    "print(\"Enero:\",PrecipEne, \"mm\")\n",
    "print(\"Febrero:\",PrecipFeb, \"mm\")\n",
    "print(\"Marzo:\",PrecipMar, \"mm\")\n",
    "print(\"Abril:\",PrecipAbr, \"mm\")\n",
    "print(\"Mayo:\",PrecipMay, \"mm\")\n",
    "print(\"Junio:\",PrecipJun, \"mm\")\n",
    "print(\"Julio:\",PrecipJul, \"mm\")\n",
    "print(\"Agosto:\",PrecipAgo, \"mm\")\n",
    "print(\"Septiembre:\",PrecipSep, \"mm\")\n",
    "print(\"Octubre:\",PrecipOct, \"mm\")\n",
    "print(\"Noviembre:\",PrecipNov, \"mm\")\n",
    "print(\"Diciembre:\",PrecipDic, \"mm\")"
   ]
  },
  {
   "cell_type": "markdown",
   "metadata": {},
   "source": [
    "Los meses con más precipitaciones fueron: Agosto, Septiembre y Julio"
   ]
  },
  {
   "cell_type": "code",
   "execution_count": 20,
   "metadata": {},
   "outputs": [
    {
     "name": "stdout",
     "output_type": "stream",
     "text": [
      "Mes 1 : 7.51 mm , Acumulada: 7.51 mm\n",
      "Mes 2 : 5.17 mm , Acumulada: 12.68 mm\n",
      "Mes 3 : 1.75 mm , Acumulada: 14.42 mm\n",
      "Mes 4 : 0.67 mm , Acumulada: 15.09 mm\n",
      "Mes 5 : 0.29 mm , Acumulada: 15.38 mm\n",
      "Mes 6 : 1.21 mm , Acumulada: 16.59 mm\n",
      "Mes 7 : 13.35 mm , Acumulada: 29.94 mm\n",
      "Mes 8 : 27.81 mm , Acumulada: 57.75 mm\n",
      "Mes 9 : 16.18 mm , Acumulada: 73.93 mm\n",
      "Mes 10 : 7.98 mm , Acumulada: 81.91 mm\n",
      "Mes 11 : 3.58 mm , Acumulada: 85.48 mm\n",
      "Mes 12 : 13.29 mm , Acumulada: 98.77 mm\n"
     ]
    }
   ],
   "source": [
    "#utilizando un loop\n",
    "total=0.0\n",
    "for i in range(12):\n",
    "    PrecipMensual = data['Precip'][data['Mes']==[i+1]].sum()/NumA\n",
    "    total=total+PrecipMensual\n",
    "    print(\"Mes\", i+1,\":\", np.round(PrecipMensual, decimals=2), \"mm\", \", Acumulada:\", \n",
    "          np.round(total, decimals=2), \"mm\")"
   ]
  },
  {
   "cell_type": "markdown",
   "metadata": {},
   "source": [
    "Los meses con más precipitaciones fueron: Agosto, Septiembre y Julio. Como habiamos dicho"
   ]
  },
  {
   "cell_type": "markdown",
   "metadata": {},
   "source": [
    "¿Cuáles son los meses más fríos y cuáles son los más cálidos?"
   ]
  },
  {
   "cell_type": "code",
   "execution_count": 21,
   "metadata": {},
   "outputs": [
    {
     "name": "stdout",
     "output_type": "stream",
     "text": [
      "Tmin Mes 1 : 6.59 ºC\n",
      "Tmin Mes 2 : 7.17 ºC\n",
      "Tmin Mes 3 : 8.59 ºC\n",
      "Tmin Mes 4 : 10.7 ºC\n",
      "Tmin Mes 5 : 13.23 ºC\n",
      "Tmin Mes 6 : 18.23 ºC\n",
      "Tmin Mes 7 : 23.73 ºC\n",
      "Tmin Mes 8 : 23.79 ºC\n",
      "Tmin Mes 9 : 21.98 ºC\n",
      "Tmin Mes 10 : 15.9 ºC\n",
      "Tmin Mes 11 : 9.86 ºC\n",
      "Tmin Mes 12 : 6.89 ºC\n",
      " \n",
      "Tmax Mes 1 : 19.7 ºC\n",
      "Tmax Mes 2 : 21.46 ºC\n",
      "Tmax Mes 3 : 22.93 ºC\n",
      "Tmax Mes 4 : 25.52 ºC\n",
      "Tmax Mes 5 : 28.09 ºC\n",
      "Tmax Mes 6 : 31.99 ºC\n",
      "Tmax Mes 7 : 33.01 ºC\n",
      "Tmax Mes 8 : 33.83 ºC\n",
      "Tmax Mes 9 : 33.13 ºC\n",
      "Tmax Mes 10 : 29.52 ºC\n",
      "Tmax Mes 11 : 24.32 ºC\n",
      "Tmax Mes 12 : 20.9 ºC\n"
     ]
    }
   ],
   "source": [
    "# Para calcular los meses más frios y mas calidos utilizamos dos loops\n",
    "\n",
    "for i in range(12):\n",
    "    TminPromMensual = data[data['Mes']==i+1]['Tmin'].sum()/data[data['Mes'] ==i+1]['Tmin'].count()\n",
    "    print(\"Tmin Mes\", i+1,\":\", np.round(TminPromMensual, decimals=2), \"ºC\")\n",
    "  \n",
    "print(\" \")\n",
    "    \n",
    "for i in range(12):\n",
    "    TmaxPromMensual = data[data['Mes']==i+1]['Tmax'].sum()/data[data['Mes'] ==i+1]['Tmax'].count()\n",
    "    print(\"Tmax Mes\", i+1,\":\", np.round(TmaxPromMensual, decimals=2), \"ºC\")"
   ]
  },
  {
   "cell_type": "markdown",
   "metadata": {},
   "source": [
    "Meses fríos: Noviembre, Diciembre, Enero, Febrero y Marzo \n"
   ]
  },
  {
   "cell_type": "markdown",
   "metadata": {},
   "source": [
    "Meses cálidos: Mayo, Junio, Julio, Agosto, Septiembre"
   ]
  },
  {
   "cell_type": "code",
   "execution_count": 22,
   "metadata": {},
   "outputs": [
    {
     "data": {
      "text/plain": [
       "(   Precip  Evap  Tmax  Tmin     NFecha   Año  Mes\n",
       " 0     0.0   7.3  35.0  22.0 1974-07-01  1974    7\n",
       " 1     0.0  10.5  34.0  22.5 1974-07-02  1974    7\n",
       " 2     0.0  13.6  31.5  21.0 1974-07-03  1974    7\n",
       " 3     0.0  10.7  41.0  28.0 1974-07-04  1974    7\n",
       " 4     0.0  10.9  35.0  28.0 1974-07-05  1974    7,\n",
       "       Precip  Evap  Tmax  Tmin     NFecha   Año  Mes\n",
       " 6630     0.0   9.4  34.0  24.0 2011-07-27  2011    7\n",
       " 6631     0.0   7.0  33.5  24.5 2011-07-28  2011    7\n",
       " 6632     0.0   7.6  33.0  25.5 2011-07-29  2011    7\n",
       " 6633     0.0   8.1  36.0  25.5 2011-07-30  2011    7\n",
       " 6634     0.0   NaN   NaN  27.5 2011-07-31  2011    7)"
      ]
     },
     "execution_count": 22,
     "metadata": {},
     "output_type": "execute_result"
    }
   ],
   "source": [
    "data.head(), data.tail()"
   ]
  },
  {
   "cell_type": "code",
   "execution_count": 23,
   "metadata": {},
   "outputs": [
    {
     "name": "stdout",
     "output_type": "stream",
     "text": [
      "Año 1974 : 89.8 mm\n",
      "Año 1975 : 55.900000000000006 mm\n",
      "Año 1976 : 106.9 mm\n",
      "Año 1977 : 104.7 mm\n",
      "Año 1978 : 54.0 mm\n",
      "Año 1979 : 43.0 mm\n",
      "Año 1980 : 69.5 mm\n",
      "Año 1981 : 91.0 mm\n",
      "Año 1982 : 153.5 mm\n",
      "Año 1983 : 214.2 mm\n",
      "Año 1984 : 263.9 mm\n",
      "Año 1985 : 53.0 mm\n",
      "Año 1986 : 9.0 mm\n",
      "Año 1987 : 0 mm\n",
      "Año 1988 : 92.0 mm\n",
      "Año 1989 : 34.0 mm\n",
      "Año 1990 : 159.0 mm\n",
      "Año 1991 : 165.0 mm\n",
      "Año 1992 : 279.0 mm\n",
      "Año 1993 : 148.0 mm\n",
      "Año 1994 : 0.0 mm\n",
      "Año 1995 : 0 mm\n",
      "Año 1996 : 0 mm\n",
      "Año 1997 : 0 mm\n",
      "Año 1998 : 0 mm\n",
      "Año 1999 : 0 mm\n",
      "Año 2000 : 0 mm\n",
      "Año 2001 : 0 mm\n",
      "Año 2002 : 0 mm\n",
      "Año 2003 : 0 mm\n",
      "Año 2004 : 0 mm\n",
      "Año 2005 : 0 mm\n",
      "Año 2006 : 0 mm\n",
      "Año 2007 : 144.1 mm\n",
      "Año 2008 : 29.6 mm\n",
      "Año 2009 : 0 mm\n",
      "Año 2010 : 0.0 mm\n",
      "Año 2011 : 11.4 mm\n"
     ]
    }
   ],
   "source": [
    "# Años húmedos y años secos\n",
    "for i in range(1973,2011):\n",
    "    PrecipAnual = data['Precip'][data['Año']==[i+1]].sum()\n",
    "    print(\"Año\", i+1,\":\", PrecipAnual, \"mm\")"
   ]
  },
  {
   "cell_type": "markdown",
   "metadata": {},
   "source": [
    "Año mas humedo fue 1992 con 279.00 mm y el menos humedo 1986 con 9 mm"
   ]
  },
  {
   "cell_type": "code",
   "execution_count": 24,
   "metadata": {},
   "outputs": [
    {
     "name": "stdout",
     "output_type": "stream",
     "text": [
      "Año: 1974 Num Datos 184 ,  0.5 %\n",
      "Año: 1975 Num Datos 365 ,  1.0 %\n",
      "Año: 1976 Num Datos 366 ,  1.0 %\n",
      "Año: 1977 Num Datos 365 ,  1.0 %\n",
      "Año: 1978 Num Datos 243 ,  0.67 %\n",
      "Año: 1979 Num Datos 122 ,  0.33 %\n",
      "Año: 1980 Num Datos 366 ,  1.0 %\n",
      "Año: 1981 Num Datos 365 ,  1.0 %\n",
      "Año: 1982 Num Datos 365 ,  1.0 %\n",
      "Año: 1983 Num Datos 334 ,  0.92 %\n",
      "Año: 1984 Num Datos 366 ,  1.0 %\n",
      "Año: 1985 Num Datos 365 ,  1.0 %\n",
      "Año: 1986 Num Datos 207 ,  0.57 %\n",
      "Año: 1987 Num Datos 0 ,  0.0 %\n",
      "Año: 1988 Num Datos 244 ,  0.67 %\n",
      "Año: 1989 Num Datos 233 ,  0.64 %\n",
      "Año: 1990 Num Datos 273 ,  0.75 %\n",
      "Año: 1991 Num Datos 365 ,  1.0 %\n",
      "Año: 1992 Num Datos 306 ,  0.84 %\n",
      "Año: 1993 Num Datos 355 ,  0.97 %\n",
      "Año: 1994 Num Datos 0 ,  0.0 %\n",
      "Año: 1995 Num Datos 0 ,  0.0 %\n",
      "Año: 1996 Num Datos 0 ,  0.0 %\n",
      "Año: 1997 Num Datos 0 ,  0.0 %\n",
      "Año: 1998 Num Datos 0 ,  0.0 %\n",
      "Año: 1999 Num Datos 0 ,  0.0 %\n",
      "Año: 2000 Num Datos 0 ,  0.0 %\n",
      "Año: 2001 Num Datos 0 ,  0.0 %\n",
      "Año: 2002 Num Datos 0 ,  0.0 %\n",
      "Año: 2003 Num Datos 0 ,  0.0 %\n",
      "Año: 2004 Num Datos 0 ,  0.0 %\n",
      "Año: 2005 Num Datos 0 ,  0.0 %\n",
      "Año: 2006 Num Datos 0 ,  0.0 %\n",
      "Año: 2007 Num Datos 284 ,  0.78 %\n",
      "Año: 2008 Num Datos 222 ,  0.61 %\n",
      "Año: 2009 Num Datos 0 ,  0.0 %\n",
      "Año: 2010 Num Datos 115 ,  0.32 %\n",
      "Año: 2011 Num Datos 209 ,  0.57 %\n"
     ]
    }
   ],
   "source": [
    "#vamos a verificar el número de datos por año\n",
    "for i in range(1973,2011):\n",
    "    NumDatos= data['Precip'][data['Año']==[i+1]].count()\n",
    "    print(\"Año:\", i+1, \"Num Datos\", NumDatos, \", \", np.round(NumDatos/365.0, decimals=2), \"%\")"
   ]
  },
  {
   "cell_type": "markdown",
   "metadata": {},
   "source": [
    "Muchos años sin datos y otros con pocos"
   ]
  },
  {
   "cell_type": "code",
   "execution_count": 25,
   "metadata": {},
   "outputs": [
    {
     "name": "stdout",
     "output_type": "stream",
     "text": [
      "Año 1974 : 29.76 °C\n",
      "Año 1975 : 27.88 °C\n",
      "Año 1976 : 29.46 °C\n",
      "Año 1977 : 27.17 °C\n",
      "Año 1978 : 27.76 °C\n",
      "Año 1979 : 26.72 °C\n",
      "Año 1980 : 27.9 °C\n",
      "Año 1981 : 26.64 °C\n",
      "Año 1982 : 26.1 °C\n",
      "Año 1983 : 26.5 °C\n",
      "Año 1984 : 27.34 °C\n",
      "Año 1985 : 26.11 °C\n",
      "Año 1986 : 26.55 °C\n",
      "Año 1987 : nan °C\n",
      "Año 1988 : 27.18 °C\n",
      "Año 1989 : 23.27 °C\n",
      "Año 1990 : 26.95 °C\n",
      "Año 1991 : 26.0 °C\n",
      "Año 1992 : 27.53 °C\n",
      "Año 1993 : 26.59 °C\n",
      "Año 1994 : 20.14 °C\n",
      "Año 1995 : nan °C\n",
      "Año 1996 : nan °C\n",
      "Año 1997 : nan °C\n",
      "Año 1998 : nan °C\n",
      "Año 1999 : nan °C\n",
      "Año 2000 : nan °C\n",
      "Año 2001 : nan °C\n",
      "Año 2002 : nan °C\n",
      "Año 2003 : nan °C\n",
      "Año 2004 : nan °C\n",
      "Año 2005 : nan °C\n",
      "Año 2006 : nan °C\n",
      "Año 2007 : 29.32 °C\n",
      "Año 2008 : 27.76 °C\n",
      "Año 2009 : nan °C\n",
      "Año 2010 : 27.47 °C\n",
      "Año 2011 : 25.96 °C\n"
     ]
    },
    {
     "name": "stderr",
     "output_type": "stream",
     "text": [
      "C:\\Users\\olguin aguilar\\Anaconda3\\lib\\site-packages\\ipykernel_launcher.py:4: RuntimeWarning: invalid value encountered in long_scalars\n",
      "  after removing the cwd from sys.path.\n"
     ]
    }
   ],
   "source": [
    " # Años más calientes\n",
    "for i in range(1973,2011):\n",
    "    NumDatos= data['Tmax'][data['Año']==[i+1]].count()\n",
    "    TempPromMax = data['Tmax'][data['Año']==[i+1]].sum()/NumDatos\n",
    "    print(\"Año\", i+1,\":\", np.round(TempPromMax , decimals=2), \"°C\")"
   ]
  },
  {
   "cell_type": "markdown",
   "metadata": {},
   "source": [
    "Estos son los años más calientes:1974, 1976 y 2007"
   ]
  },
  {
   "cell_type": "code",
   "execution_count": 26,
   "metadata": {},
   "outputs": [
    {
     "name": "stdout",
     "output_type": "stream",
     "text": [
      "Año 1974 : 17.08 °C\n",
      "Año 1975 : 11.67 °C\n",
      "Año 1976 : 11.62 °C\n",
      "Año 1977 : 14.73 °C\n",
      "Año 1978 : 13.87 °C\n",
      "Año 1979 : 13.03 °C\n",
      "Año 1980 : 15.16 °C\n",
      "Año 1981 : 14.78 °C\n",
      "Año 1982 : 14.32 °C\n",
      "Año 1983 : 13.71 °C\n",
      "Año 1984 : 13.79 °C\n",
      "Año 1985 : 13.39 °C\n",
      "Año 1986 : 14.27 °C\n",
      "Año 1987 : nan °C\n",
      "Año 1988 : 15.65 °C\n",
      "Año 1989 : 9.36 °C\n",
      "Año 1990 : 14.04 °C\n",
      "Año 1991 : 13.21 °C\n",
      "Año 1992 : 14.68 °C\n",
      "Año 1993 : 14.18 °C\n",
      "Año 1994 : 4.62 °C\n",
      "Año 1995 : nan °C\n",
      "Año 1996 : nan °C\n",
      "Año 1997 : nan °C\n",
      "Año 1998 : nan °C\n",
      "Año 1999 : nan °C\n",
      "Año 2000 : nan °C\n",
      "Año 2001 : nan °C\n",
      "Año 2002 : nan °C\n",
      "Año 2003 : nan °C\n",
      "Año 2004 : nan °C\n",
      "Año 2005 : nan °C\n",
      "Año 2006 : nan °C\n",
      "Año 2007 : 17.76 °C\n",
      "Año 2008 : 15.83 °C\n",
      "Año 2009 : nan °C\n",
      "Año 2010 : 14.76 °C\n",
      "Año 2011 : 12.02 °C\n"
     ]
    },
    {
     "name": "stderr",
     "output_type": "stream",
     "text": [
      "C:\\Users\\olguin aguilar\\Anaconda3\\lib\\site-packages\\ipykernel_launcher.py:4: RuntimeWarning: invalid value encountered in long_scalars\n",
      "  after removing the cwd from sys.path.\n"
     ]
    }
   ],
   "source": [
    "# Años más frios\n",
    "for i in range(1973,2011):\n",
    "    NumDatos= data['Tmin'][data['Año']==[i+1]].count()\n",
    "    TempPromMin = data['Tmin'][data['Año']==[i+1]].sum()/NumDatos\n",
    "    print(\"Año\", i+1,\":\",np.round(TempPromMin , decimals=2), \"°C\")"
   ]
  },
  {
   "cell_type": "markdown",
   "metadata": {},
   "source": [
    "Estos son los años más frios: 1976, 1989 y 1994"
   ]
  },
  {
   "cell_type": "code",
   "execution_count": null,
   "metadata": {
    "collapsed": true
   },
   "outputs": [],
   "source": []
  },
  {
   "cell_type": "code",
   "execution_count": 42,
   "metadata": {},
   "outputs": [
    {
     "name": "stdout",
     "output_type": "stream",
     "text": [
      "Tprom Mes 1 : 13.15 ºC\n",
      "Tprom Mes 2 : 14.31 ºC\n",
      "Tprom Mes 3 : 15.76 ºC\n",
      "Tprom Mes 4 : 18.11 ºC\n",
      "Tprom Mes 5 : 20.66 ºC\n",
      "Tprom Mes 6 : 25.11 ºC\n",
      "Tprom Mes 7 : 28.37 ºC\n",
      "Tprom Mes 8 : 28.81 ºC\n",
      "Tprom Mes 9 : 27.55 ºC\n",
      "Tprom Mes 10 : 22.71 ºC\n",
      "Tprom Mes 11 : 17.09 ºC\n",
      "Tprom Mes 12 : 13.9 ºC\n"
     ]
    }
   ],
   "source": [
    "# la temperatura mensual promedio en los últimos 20 años \n",
    "for i in range(12):\n",
    "    TminPromMensual = data[data['Mes']==i+1]['Tmin'].sum()/data[data['Mes'] ==i+1]['Tmin'].count()\n",
    "    TmaxPromMensual = data[data['Mes']==i+1]['Tmax'].sum()/data[data['Mes'] ==i+1]['Tmax'].count()\n",
    "    TpromMensual = (TminPromMensual+TmaxPromMensual)*(1/2)\n",
    "\n",
    "    \n",
    "#    print(\"Tmin Mes\", i+1,\":\", np.round(TminPromMensual, decimals=2), \"ºC\")\n",
    " #   print(\"Tmax Mes\", i+1,\":\", np.round(TmaxPromMensual, decimals=2), \"ºC\")\n",
    "    print(\"Tprom Mes\", i+1, \":\",np.round(TpromMensual, decimals=2),\"ºC\")\n",
    "    \n",
    "\n",
    "    \n"
   ]
  },
  {
   "cell_type": "code",
   "execution_count": null,
   "metadata": {
    "collapsed": true
   },
   "outputs": [],
   "source": []
  }
 ],
 "metadata": {
  "kernelspec": {
   "display_name": "Python 3",
   "language": "python",
   "name": "python3"
  },
  "language_info": {
   "codemirror_mode": {
    "name": "ipython",
    "version": 3
   },
   "file_extension": ".py",
   "mimetype": "text/x-python",
   "name": "python",
   "nbconvert_exporter": "python",
   "pygments_lexer": "ipython3",
   "version": "3.6.3"
  }
 },
 "nbformat": 4,
 "nbformat_minor": 2
}
